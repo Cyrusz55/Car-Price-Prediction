{
 "cells": [
  {
   "metadata": {},
   "cell_type": "markdown",
   "source": "First step is uploading my csv file\n",
   "id": "8a77807f92f26ee"
  },
  {
   "metadata": {},
   "cell_type": "markdown",
   "source": [
    "1. Load the dataset into a Pandas DataFrame and display the first 5 rows.\n",
    " Explain what each column means in your own words."
   ],
   "id": "f94b79e3b7f5d685"
  },
  {
   "metadata": {
    "ExecuteTime": {
     "end_time": "2025-09-24T09:36:55.977003Z",
     "start_time": "2025-09-24T09:36:55.957883Z"
    }
   },
   "cell_type": "code",
   "source": [
    "import numpy as np\n",
    "import pandas as pd"
   ],
   "id": "533d78e5a6caebc1",
   "outputs": [],
   "execution_count": 2
  },
  {
   "metadata": {
    "ExecuteTime": {
     "end_time": "2025-09-24T09:36:56.303340Z",
     "start_time": "2025-09-24T09:36:56.045568Z"
    }
   },
   "cell_type": "code",
   "source": [
    "df= pd.read_csv(r\"car dataset.csv\")\n",
    "df.head()"
   ],
   "id": "2a087b54a0afe613",
   "outputs": [
    {
     "data": {
      "text/plain": [
       "                           name  year  selling_price  km_driven    fuel  \\\n",
       "0        Maruti Swift Dzire VDI  2014         450000     145500  Diesel   \n",
       "1  Skoda Rapid 1.5 TDI Ambition  2014         370000     120000  Diesel   \n",
       "2      Honda City 2017-2020 EXi  2006         158000     140000  Petrol   \n",
       "3     Hyundai i20 Sportz Diesel  2010         225000     127000  Diesel   \n",
       "4        Maruti Swift VXI BSIII  2007         130000     120000  Petrol   \n",
       "\n",
       "  seller_type transmission         owner  mileage(km/ltr/kg)  engine  \\\n",
       "0  Individual       Manual   First Owner               23.40  1248.0   \n",
       "1  Individual       Manual  Second Owner               21.14  1498.0   \n",
       "2  Individual       Manual   Third Owner               17.70  1497.0   \n",
       "3  Individual       Manual   First Owner               23.00  1396.0   \n",
       "4  Individual       Manual   First Owner               16.10  1298.0   \n",
       "\n",
       "  max_power  seats  \n",
       "0        74    5.0  \n",
       "1    103.52    5.0  \n",
       "2        78    5.0  \n",
       "3        90    5.0  \n",
       "4      88.2    5.0  "
      ],
      "text/html": [
       "<div>\n",
       "<style scoped>\n",
       "    .dataframe tbody tr th:only-of-type {\n",
       "        vertical-align: middle;\n",
       "    }\n",
       "\n",
       "    .dataframe tbody tr th {\n",
       "        vertical-align: top;\n",
       "    }\n",
       "\n",
       "    .dataframe thead th {\n",
       "        text-align: right;\n",
       "    }\n",
       "</style>\n",
       "<table border=\"1\" class=\"dataframe\">\n",
       "  <thead>\n",
       "    <tr style=\"text-align: right;\">\n",
       "      <th></th>\n",
       "      <th>name</th>\n",
       "      <th>year</th>\n",
       "      <th>selling_price</th>\n",
       "      <th>km_driven</th>\n",
       "      <th>fuel</th>\n",
       "      <th>seller_type</th>\n",
       "      <th>transmission</th>\n",
       "      <th>owner</th>\n",
       "      <th>mileage(km/ltr/kg)</th>\n",
       "      <th>engine</th>\n",
       "      <th>max_power</th>\n",
       "      <th>seats</th>\n",
       "    </tr>\n",
       "  </thead>\n",
       "  <tbody>\n",
       "    <tr>\n",
       "      <th>0</th>\n",
       "      <td>Maruti Swift Dzire VDI</td>\n",
       "      <td>2014</td>\n",
       "      <td>450000</td>\n",
       "      <td>145500</td>\n",
       "      <td>Diesel</td>\n",
       "      <td>Individual</td>\n",
       "      <td>Manual</td>\n",
       "      <td>First Owner</td>\n",
       "      <td>23.40</td>\n",
       "      <td>1248.0</td>\n",
       "      <td>74</td>\n",
       "      <td>5.0</td>\n",
       "    </tr>\n",
       "    <tr>\n",
       "      <th>1</th>\n",
       "      <td>Skoda Rapid 1.5 TDI Ambition</td>\n",
       "      <td>2014</td>\n",
       "      <td>370000</td>\n",
       "      <td>120000</td>\n",
       "      <td>Diesel</td>\n",
       "      <td>Individual</td>\n",
       "      <td>Manual</td>\n",
       "      <td>Second Owner</td>\n",
       "      <td>21.14</td>\n",
       "      <td>1498.0</td>\n",
       "      <td>103.52</td>\n",
       "      <td>5.0</td>\n",
       "    </tr>\n",
       "    <tr>\n",
       "      <th>2</th>\n",
       "      <td>Honda City 2017-2020 EXi</td>\n",
       "      <td>2006</td>\n",
       "      <td>158000</td>\n",
       "      <td>140000</td>\n",
       "      <td>Petrol</td>\n",
       "      <td>Individual</td>\n",
       "      <td>Manual</td>\n",
       "      <td>Third Owner</td>\n",
       "      <td>17.70</td>\n",
       "      <td>1497.0</td>\n",
       "      <td>78</td>\n",
       "      <td>5.0</td>\n",
       "    </tr>\n",
       "    <tr>\n",
       "      <th>3</th>\n",
       "      <td>Hyundai i20 Sportz Diesel</td>\n",
       "      <td>2010</td>\n",
       "      <td>225000</td>\n",
       "      <td>127000</td>\n",
       "      <td>Diesel</td>\n",
       "      <td>Individual</td>\n",
       "      <td>Manual</td>\n",
       "      <td>First Owner</td>\n",
       "      <td>23.00</td>\n",
       "      <td>1396.0</td>\n",
       "      <td>90</td>\n",
       "      <td>5.0</td>\n",
       "    </tr>\n",
       "    <tr>\n",
       "      <th>4</th>\n",
       "      <td>Maruti Swift VXI BSIII</td>\n",
       "      <td>2007</td>\n",
       "      <td>130000</td>\n",
       "      <td>120000</td>\n",
       "      <td>Petrol</td>\n",
       "      <td>Individual</td>\n",
       "      <td>Manual</td>\n",
       "      <td>First Owner</td>\n",
       "      <td>16.10</td>\n",
       "      <td>1298.0</td>\n",
       "      <td>88.2</td>\n",
       "      <td>5.0</td>\n",
       "    </tr>\n",
       "  </tbody>\n",
       "</table>\n",
       "</div>"
      ]
     },
     "execution_count": 3,
     "metadata": {},
     "output_type": "execute_result"
    }
   ],
   "execution_count": 3
  },
  {
   "metadata": {},
   "cell_type": "markdown",
   "source": "1st column reffers to the specific name of the Car, the second name reffers to the year that the car was manufactured, the third column reffers to the price that the car will be sold for, the forth column reffers to how many kilometers the specific vehicle has accumulated since it was manufactured, the fifth column reffers to the type of fuel consumed ny the specific vehicle, the sixth column reffers to what entity is selling the vehicle, be it an individual or a company, the seventh column represents whether the vehicle is automatic or manual transmission, the eigth column shows how many owners the vehicle has gone through, the ninth column represents how many mileage the vehicle has accumulated in kilometer per litre per kg, the 10th column represents the engine power, the 11th column represents the maximum power of the engine and finally the 12th column represents the number of seats in the specific vehicle.",
   "id": "108a4833da86b1f0"
  },
  {
   "metadata": {},
   "cell_type": "markdown",
   "source": [
    "2. Check for missing values in the dataset.\n",
    " Show both the number of missing values per column and the percentage.\n"
   ],
   "id": "f866a7b7cc87e0b4"
  },
  {
   "metadata": {
    "ExecuteTime": {
     "end_time": "2025-09-24T09:36:56.491943Z",
     "start_time": "2025-09-24T09:36:56.429289Z"
    }
   },
   "cell_type": "code",
   "source": "df.info()",
   "id": "6b59e693766a622e",
   "outputs": [
    {
     "name": "stdout",
     "output_type": "stream",
     "text": [
      "<class 'pandas.core.frame.DataFrame'>\n",
      "RangeIndex: 8128 entries, 0 to 8127\n",
      "Data columns (total 12 columns):\n",
      " #   Column              Non-Null Count  Dtype  \n",
      "---  ------              --------------  -----  \n",
      " 0   name                8128 non-null   object \n",
      " 1   year                8128 non-null   int64  \n",
      " 2   selling_price       8128 non-null   int64  \n",
      " 3   km_driven           8128 non-null   int64  \n",
      " 4   fuel                8128 non-null   object \n",
      " 5   seller_type         8128 non-null   object \n",
      " 6   transmission        8128 non-null   object \n",
      " 7   owner               8128 non-null   object \n",
      " 8   mileage(km/ltr/kg)  7907 non-null   float64\n",
      " 9   engine              7907 non-null   float64\n",
      " 10  max_power           7913 non-null   object \n",
      " 11  seats               7907 non-null   float64\n",
      "dtypes: float64(3), int64(3), object(6)\n",
      "memory usage: 762.1+ KB\n"
     ]
    }
   ],
   "execution_count": 4
  },
  {
   "metadata": {
    "ExecuteTime": {
     "end_time": "2025-09-24T09:36:56.595005Z",
     "start_time": "2025-09-24T09:36:56.565184Z"
    }
   },
   "cell_type": "code",
   "source": [
    "missing_count = df.isnull().sum()\n",
    "missing_percentage = (df.isnull().sum()/len(df)) * 100\n",
    "\n",
    "missing_summary = pd.DataFrame({\n",
    "    'Missing Count': missing_count,\n",
    "    'Missing Percentage': missing_percentage\n",
    "})\n",
    "print(missing_summary)"
   ],
   "id": "8cb065b6ec7d0a5e",
   "outputs": [
    {
     "name": "stdout",
     "output_type": "stream",
     "text": [
      "                    Missing Count  Missing Percentage\n",
      "name                            0            0.000000\n",
      "year                            0            0.000000\n",
      "selling_price                   0            0.000000\n",
      "km_driven                       0            0.000000\n",
      "fuel                            0            0.000000\n",
      "seller_type                     0            0.000000\n",
      "transmission                    0            0.000000\n",
      "owner                           0            0.000000\n",
      "mileage(km/ltr/kg)            221            2.718996\n",
      "engine                        221            2.718996\n",
      "max_power                     215            2.645177\n",
      "seats                         221            2.718996\n"
     ]
    }
   ],
   "execution_count": 5
  },
  {
   "metadata": {},
   "cell_type": "markdown",
   "source": [
    "3. Drop any rows where the target variable (selling price) is missing.\n",
    " Explain why we can’t train a model with missing target values.\n"
   ],
   "id": "1f0d3b6883395f3c"
  },
  {
   "metadata": {
    "ExecuteTime": {
     "end_time": "2025-09-24T09:36:56.814264Z",
     "start_time": "2025-09-24T09:36:56.773325Z"
    }
   },
   "cell_type": "code",
   "source": [
    "#There are no rows where the target variable which is the selling price in this case is missing.\n",
    "# the code to drop empty rows is\n",
    "# df.dropna() drops every row with an empty value"
   ],
   "id": "68da4cdd3338b853",
   "outputs": [],
   "execution_count": 6
  },
  {
   "metadata": {},
   "cell_type": "markdown",
   "source": [
    "models cannot be trained with missing target values, since the models learn by establishing a clear relationship between the feature values and target values, with the target value missing the model will lack the necessary true value to compare its predicted value to inorder to find the error hence know where to optimize.\n",
    "with the feature value missing the model cannot calculate the error. hence cannot optimize to correct the error."
   ],
   "id": "ea936aa603c78439"
  },
  {
   "metadata": {},
   "cell_type": "markdown",
   "source": [
    "4. Fill missing values in the “mileage” column with the column’s mean.\n",
    " Explain why filling missing values can sometimes be better than dropping rows.\n"
   ],
   "id": "ac482a95cdb2a4e3"
  },
  {
   "metadata": {
    "ExecuteTime": {
     "end_time": "2025-09-24T09:36:56.848227Z",
     "start_time": "2025-09-24T09:36:56.835286Z"
    }
   },
   "cell_type": "code",
   "source": [
    "mean_mileage = df['mileage(km/ltr/kg)'].mean()\n",
    "df['mileage(km/ltr/kg)'] = df['mileage(km/ltr/kg)'].fillna(mean_mileage)"
   ],
   "id": "54945c667020d78c",
   "outputs": [],
   "execution_count": 7
  },
  {
   "metadata": {
    "ExecuteTime": {
     "end_time": "2025-09-24T09:36:57.047154Z",
     "start_time": "2025-09-24T09:36:57.020270Z"
    }
   },
   "cell_type": "code",
   "source": "df.info()",
   "id": "d217cdcabfe32d81",
   "outputs": [
    {
     "name": "stdout",
     "output_type": "stream",
     "text": [
      "<class 'pandas.core.frame.DataFrame'>\n",
      "RangeIndex: 8128 entries, 0 to 8127\n",
      "Data columns (total 12 columns):\n",
      " #   Column              Non-Null Count  Dtype  \n",
      "---  ------              --------------  -----  \n",
      " 0   name                8128 non-null   object \n",
      " 1   year                8128 non-null   int64  \n",
      " 2   selling_price       8128 non-null   int64  \n",
      " 3   km_driven           8128 non-null   int64  \n",
      " 4   fuel                8128 non-null   object \n",
      " 5   seller_type         8128 non-null   object \n",
      " 6   transmission        8128 non-null   object \n",
      " 7   owner               8128 non-null   object \n",
      " 8   mileage(km/ltr/kg)  8128 non-null   float64\n",
      " 9   engine              7907 non-null   float64\n",
      " 10  max_power           7913 non-null   object \n",
      " 11  seats               7907 non-null   float64\n",
      "dtypes: float64(3), int64(3), object(6)\n",
      "memory usage: 762.1+ KB\n"
     ]
    }
   ],
   "execution_count": 8
  },
  {
   "metadata": {},
   "cell_type": "markdown",
   "source": [
    "replacing missing values is often better than dropping rows due to the fact that everytime you drop a row, the statistical power drops hence replacing the missing values maintains the statistical power.\n",
    "also dropping entire rows will contribute to creation of bias due to omission of certain observations that could have been very crucial"
   ],
   "id": "f3018b3c016f7cf4"
  },
  {
   "metadata": {},
   "cell_type": "markdown",
   "source": [
    "5. Remove duplicate rows from the dataset.\n",
    " Explain how duplicate rows can affect model training.\n"
   ],
   "id": "15f31f6780f02724"
  },
  {
   "metadata": {
    "ExecuteTime": {
     "end_time": "2025-09-24T09:36:57.394174Z",
     "start_time": "2025-09-24T09:36:57.346045Z"
    }
   },
   "cell_type": "code",
   "source": [
    "df = df.drop_duplicates()\n",
    "df.info()"
   ],
   "id": "c45846c642f587c2",
   "outputs": [
    {
     "name": "stdout",
     "output_type": "stream",
     "text": [
      "<class 'pandas.core.frame.DataFrame'>\n",
      "Index: 6926 entries, 0 to 8125\n",
      "Data columns (total 12 columns):\n",
      " #   Column              Non-Null Count  Dtype  \n",
      "---  ------              --------------  -----  \n",
      " 0   name                6926 non-null   object \n",
      " 1   year                6926 non-null   int64  \n",
      " 2   selling_price       6926 non-null   int64  \n",
      " 3   km_driven           6926 non-null   int64  \n",
      " 4   fuel                6926 non-null   object \n",
      " 5   seller_type         6926 non-null   object \n",
      " 6   transmission        6926 non-null   object \n",
      " 7   owner               6926 non-null   object \n",
      " 8   mileage(km/ltr/kg)  6926 non-null   float64\n",
      " 9   engine              6718 non-null   float64\n",
      " 10  max_power           6721 non-null   object \n",
      " 11  seats               6718 non-null   float64\n",
      "dtypes: float64(3), int64(3), object(6)\n",
      "memory usage: 703.4+ KB\n"
     ]
    }
   ],
   "execution_count": 9
  },
  {
   "metadata": {},
   "cell_type": "markdown",
   "source": [
    "Duplicate rows lead to model overfitting,\n",
    "also lead to false confidence when testing the data for accuracy."
   ],
   "id": "d1a18940e603f315"
  },
  {
   "metadata": {},
   "cell_type": "markdown",
   "source": [
    "6. Convert the “year” column into the car’s age.\n",
    " Example: If the car’s year is 2015 and the current year is 2025, the age is 10 years.\n"
   ],
   "id": "830a3293df1f9c55"
  },
  {
   "metadata": {
    "ExecuteTime": {
     "end_time": "2025-09-24T09:36:57.709902Z",
     "start_time": "2025-09-24T09:36:57.678069Z"
    }
   },
   "cell_type": "code",
   "source": [
    "from datetime import datetime\n",
    "current_year = datetime.now().year\n",
    "\n",
    "df['year'] = current_year - df['year']\n",
    "df.head()"
   ],
   "id": "d0ab794a43f12b2c",
   "outputs": [
    {
     "data": {
      "text/plain": [
       "                           name  year  selling_price  km_driven    fuel  \\\n",
       "0        Maruti Swift Dzire VDI    11         450000     145500  Diesel   \n",
       "1  Skoda Rapid 1.5 TDI Ambition    11         370000     120000  Diesel   \n",
       "2      Honda City 2017-2020 EXi    19         158000     140000  Petrol   \n",
       "3     Hyundai i20 Sportz Diesel    15         225000     127000  Diesel   \n",
       "4        Maruti Swift VXI BSIII    18         130000     120000  Petrol   \n",
       "\n",
       "  seller_type transmission         owner  mileage(km/ltr/kg)  engine  \\\n",
       "0  Individual       Manual   First Owner               23.40  1248.0   \n",
       "1  Individual       Manual  Second Owner               21.14  1498.0   \n",
       "2  Individual       Manual   Third Owner               17.70  1497.0   \n",
       "3  Individual       Manual   First Owner               23.00  1396.0   \n",
       "4  Individual       Manual   First Owner               16.10  1298.0   \n",
       "\n",
       "  max_power  seats  \n",
       "0        74    5.0  \n",
       "1    103.52    5.0  \n",
       "2        78    5.0  \n",
       "3        90    5.0  \n",
       "4      88.2    5.0  "
      ],
      "text/html": [
       "<div>\n",
       "<style scoped>\n",
       "    .dataframe tbody tr th:only-of-type {\n",
       "        vertical-align: middle;\n",
       "    }\n",
       "\n",
       "    .dataframe tbody tr th {\n",
       "        vertical-align: top;\n",
       "    }\n",
       "\n",
       "    .dataframe thead th {\n",
       "        text-align: right;\n",
       "    }\n",
       "</style>\n",
       "<table border=\"1\" class=\"dataframe\">\n",
       "  <thead>\n",
       "    <tr style=\"text-align: right;\">\n",
       "      <th></th>\n",
       "      <th>name</th>\n",
       "      <th>year</th>\n",
       "      <th>selling_price</th>\n",
       "      <th>km_driven</th>\n",
       "      <th>fuel</th>\n",
       "      <th>seller_type</th>\n",
       "      <th>transmission</th>\n",
       "      <th>owner</th>\n",
       "      <th>mileage(km/ltr/kg)</th>\n",
       "      <th>engine</th>\n",
       "      <th>max_power</th>\n",
       "      <th>seats</th>\n",
       "    </tr>\n",
       "  </thead>\n",
       "  <tbody>\n",
       "    <tr>\n",
       "      <th>0</th>\n",
       "      <td>Maruti Swift Dzire VDI</td>\n",
       "      <td>11</td>\n",
       "      <td>450000</td>\n",
       "      <td>145500</td>\n",
       "      <td>Diesel</td>\n",
       "      <td>Individual</td>\n",
       "      <td>Manual</td>\n",
       "      <td>First Owner</td>\n",
       "      <td>23.40</td>\n",
       "      <td>1248.0</td>\n",
       "      <td>74</td>\n",
       "      <td>5.0</td>\n",
       "    </tr>\n",
       "    <tr>\n",
       "      <th>1</th>\n",
       "      <td>Skoda Rapid 1.5 TDI Ambition</td>\n",
       "      <td>11</td>\n",
       "      <td>370000</td>\n",
       "      <td>120000</td>\n",
       "      <td>Diesel</td>\n",
       "      <td>Individual</td>\n",
       "      <td>Manual</td>\n",
       "      <td>Second Owner</td>\n",
       "      <td>21.14</td>\n",
       "      <td>1498.0</td>\n",
       "      <td>103.52</td>\n",
       "      <td>5.0</td>\n",
       "    </tr>\n",
       "    <tr>\n",
       "      <th>2</th>\n",
       "      <td>Honda City 2017-2020 EXi</td>\n",
       "      <td>19</td>\n",
       "      <td>158000</td>\n",
       "      <td>140000</td>\n",
       "      <td>Petrol</td>\n",
       "      <td>Individual</td>\n",
       "      <td>Manual</td>\n",
       "      <td>Third Owner</td>\n",
       "      <td>17.70</td>\n",
       "      <td>1497.0</td>\n",
       "      <td>78</td>\n",
       "      <td>5.0</td>\n",
       "    </tr>\n",
       "    <tr>\n",
       "      <th>3</th>\n",
       "      <td>Hyundai i20 Sportz Diesel</td>\n",
       "      <td>15</td>\n",
       "      <td>225000</td>\n",
       "      <td>127000</td>\n",
       "      <td>Diesel</td>\n",
       "      <td>Individual</td>\n",
       "      <td>Manual</td>\n",
       "      <td>First Owner</td>\n",
       "      <td>23.00</td>\n",
       "      <td>1396.0</td>\n",
       "      <td>90</td>\n",
       "      <td>5.0</td>\n",
       "    </tr>\n",
       "    <tr>\n",
       "      <th>4</th>\n",
       "      <td>Maruti Swift VXI BSIII</td>\n",
       "      <td>18</td>\n",
       "      <td>130000</td>\n",
       "      <td>120000</td>\n",
       "      <td>Petrol</td>\n",
       "      <td>Individual</td>\n",
       "      <td>Manual</td>\n",
       "      <td>First Owner</td>\n",
       "      <td>16.10</td>\n",
       "      <td>1298.0</td>\n",
       "      <td>88.2</td>\n",
       "      <td>5.0</td>\n",
       "    </tr>\n",
       "  </tbody>\n",
       "</table>\n",
       "</div>"
      ]
     },
     "execution_count": 10,
     "metadata": {},
     "output_type": "execute_result"
    }
   ],
   "execution_count": 10
  },
  {
   "metadata": {},
   "cell_type": "markdown",
   "source": [
    "7. Check the unique values in the “fuel type” column.\n",
    " Explain why knowing all possible values in a categorical column is important before encoding."
   ],
   "id": "e02c612ce26e82ed"
  },
  {
   "metadata": {
    "ExecuteTime": {
     "end_time": "2025-09-24T09:36:58.000039Z",
     "start_time": "2025-09-24T09:36:57.975457Z"
    }
   },
   "cell_type": "code",
   "source": "df.nunique(axis = 0, dropna = True)",
   "id": "2baee101f587a8bb",
   "outputs": [
    {
     "data": {
      "text/plain": [
       "name                  2058\n",
       "year                    29\n",
       "selling_price          677\n",
       "km_driven              921\n",
       "fuel                     4\n",
       "seller_type              3\n",
       "transmission             2\n",
       "owner                    5\n",
       "mileage(km/ltr/kg)     382\n",
       "engine                 121\n",
       "max_power              320\n",
       "seats                    9\n",
       "dtype: int64"
      ]
     },
     "execution_count": 11,
     "metadata": {},
     "output_type": "execute_result"
    }
   ],
   "execution_count": 11
  },
  {
   "metadata": {},
   "cell_type": "markdown",
   "source": "Knowing all possible values aids in model consistency and prediction reliability. Also, it helps in preventing data leakage where the info from testing set influences the training process",
   "id": "a56b6c6f381237c0"
  },
  {
   "metadata": {},
   "cell_type": "markdown",
   "source": [
    "8. Replace inconsistent values in the “transmission” column.\n",
    " For example, replace “manual” and “Manual” with “Manual” (consistent casing).\n"
   ],
   "id": "f550b9e988446797"
  },
  {
   "metadata": {
    "ExecuteTime": {
     "end_time": "2025-09-24T09:36:58.166686Z",
     "start_time": "2025-09-24T09:36:58.152274Z"
    }
   },
   "cell_type": "code",
   "source": [
    "unique_value = df['transmission'].unique()\n",
    "print(unique_value)"
   ],
   "id": "842d76c57892492d",
   "outputs": [
    {
     "name": "stdout",
     "output_type": "stream",
     "text": [
      "['Manual' 'Automatic']\n"
     ]
    }
   ],
   "execution_count": 12
  },
  {
   "metadata": {
    "ExecuteTime": {
     "end_time": "2025-09-24T09:36:58.479045Z",
     "start_time": "2025-09-24T09:36:58.465835Z"
    }
   },
   "cell_type": "code",
   "source": [
    "# replacing values in some certain column\n",
    "df['transmission'] = df['transmission'].replace('manual', 'Manual')\n",
    "df['transmission'] = df['transmission'].replace('automatic', 'Automatic')"
   ],
   "id": "c76dd877fa1f3e5",
   "outputs": [],
   "execution_count": 13
  },
  {
   "metadata": {},
   "cell_type": "markdown",
   "source": [
    "Check if there are any outliers in the “selling price” column using a boxplot.\n",
    " Explain why outliers can affect model accuracy.\n"
   ],
   "id": "2b5688e9334c8ccd"
  },
  {
   "metadata": {
    "ExecuteTime": {
     "end_time": "2025-09-24T09:36:59.003403Z",
     "start_time": "2025-09-24T09:36:58.650262Z"
    }
   },
   "cell_type": "code",
   "source": [
    "import matplotlib.pyplot as plt\n",
    "plt.boxplot(df['selling_price'])\n",
    "plt.show()"
   ],
   "id": "bcdbcfac3b10674",
   "outputs": [
    {
     "data": {
      "text/plain": [
       "<Figure size 640x480 with 1 Axes>"
      ],
      "image/png": "[encoded data removed]"
     },
     "metadata": {},
     "output_type": "display_data"
    }
   ],
   "execution_count": 14
  },
  {
   "metadata": {},
   "cell_type": "markdown",
   "source": "Algorithms like logic regression and linear regression try to reduce the average error by fitting to the data. Outliers can drastically shift the fitted line/ boundary hence reducing model accuracy significantly.",
   "id": "563e33e24ae7adcc"
  },
  {
   "metadata": {},
   "cell_type": "markdown",
   "source": [
    "10. Remove cars that are priced below 10,000 or above 5,000,000 (possible outliers).\n",
    " Explain why setting realistic price limits can help improve model performance.\n"
   ],
   "id": "4685188e85ed6078"
  },
  {
   "metadata": {
    "ExecuteTime": {
     "end_time": "2025-09-24T09:36:59.131681Z",
     "start_time": "2025-09-24T09:36:59.094849Z"
    }
   },
   "cell_type": "code",
   "source": [
    "df = df.loc[(df['selling_price'] >= 20000) & (df['selling_price'] <= 5000000)]\n",
    "df.head()"
   ],
   "id": "6216e8dbe1a47d0c",
   "outputs": [
    {
     "data": {
      "text/plain": [
       "                           name  year  selling_price  km_driven    fuel  \\\n",
       "0        Maruti Swift Dzire VDI    11         450000     145500  Diesel   \n",
       "1  Skoda Rapid 1.5 TDI Ambition    11         370000     120000  Diesel   \n",
       "2      Honda City 2017-2020 EXi    19         158000     140000  Petrol   \n",
       "3     Hyundai i20 Sportz Diesel    15         225000     127000  Diesel   \n",
       "4        Maruti Swift VXI BSIII    18         130000     120000  Petrol   \n",
       "\n",
       "  seller_type transmission         owner  mileage(km/ltr/kg)  engine  \\\n",
       "0  Individual       Manual   First Owner               23.40  1248.0   \n",
       "1  Individual       Manual  Second Owner               21.14  1498.0   \n",
       "2  Individual       Manual   Third Owner               17.70  1497.0   \n",
       "3  Individual       Manual   First Owner               23.00  1396.0   \n",
       "4  Individual       Manual   First Owner               16.10  1298.0   \n",
       "\n",
       "  max_power  seats  \n",
       "0        74    5.0  \n",
       "1    103.52    5.0  \n",
       "2        78    5.0  \n",
       "3        90    5.0  \n",
       "4      88.2    5.0  "
      ],
      "text/html": [
       "<div>\n",
       "<style scoped>\n",
       "    .dataframe tbody tr th:only-of-type {\n",
       "        vertical-align: middle;\n",
       "    }\n",
       "\n",
       "    .dataframe tbody tr th {\n",
       "        vertical-align: top;\n",
       "    }\n",
       "\n",
       "    .dataframe thead th {\n",
       "        text-align: right;\n",
       "    }\n",
       "</style>\n",
       "<table border=\"1\" class=\"dataframe\">\n",
       "  <thead>\n",
       "    <tr style=\"text-align: right;\">\n",
       "      <th></th>\n",
       "      <th>name</th>\n",
       "      <th>year</th>\n",
       "      <th>selling_price</th>\n",
       "      <th>km_driven</th>\n",
       "      <th>fuel</th>\n",
       "      <th>seller_type</th>\n",
       "      <th>transmission</th>\n",
       "      <th>owner</th>\n",
       "      <th>mileage(km/ltr/kg)</th>\n",
       "      <th>engine</th>\n",
       "      <th>max_power</th>\n",
       "      <th>seats</th>\n",
       "    </tr>\n",
       "  </thead>\n",
       "  <tbody>\n",
       "    <tr>\n",
       "      <th>0</th>\n",
       "      <td>Maruti Swift Dzire VDI</td>\n",
       "      <td>11</td>\n",
       "      <td>450000</td>\n",
       "      <td>145500</td>\n",
       "      <td>Diesel</td>\n",
       "      <td>Individual</td>\n",
       "      <td>Manual</td>\n",
       "      <td>First Owner</td>\n",
       "      <td>23.40</td>\n",
       "      <td>1248.0</td>\n",
       "      <td>74</td>\n",
       "      <td>5.0</td>\n",
       "    </tr>\n",
       "    <tr>\n",
       "      <th>1</th>\n",
       "      <td>Skoda Rapid 1.5 TDI Ambition</td>\n",
       "      <td>11</td>\n",
       "      <td>370000</td>\n",
       "      <td>120000</td>\n",
       "      <td>Diesel</td>\n",
       "      <td>Individual</td>\n",
       "      <td>Manual</td>\n",
       "      <td>Second Owner</td>\n",
       "      <td>21.14</td>\n",
       "      <td>1498.0</td>\n",
       "      <td>103.52</td>\n",
       "      <td>5.0</td>\n",
       "    </tr>\n",
       "    <tr>\n",
       "      <th>2</th>\n",
       "      <td>Honda City 2017-2020 EXi</td>\n",
       "      <td>19</td>\n",
       "      <td>158000</td>\n",
       "      <td>140000</td>\n",
       "      <td>Petrol</td>\n",
       "      <td>Individual</td>\n",
       "      <td>Manual</td>\n",
       "      <td>Third Owner</td>\n",
       "      <td>17.70</td>\n",
       "      <td>1497.0</td>\n",
       "      <td>78</td>\n",
       "      <td>5.0</td>\n",
       "    </tr>\n",
       "    <tr>\n",
       "      <th>3</th>\n",
       "      <td>Hyundai i20 Sportz Diesel</td>\n",
       "      <td>15</td>\n",
       "      <td>225000</td>\n",
       "      <td>127000</td>\n",
       "      <td>Diesel</td>\n",
       "      <td>Individual</td>\n",
       "      <td>Manual</td>\n",
       "      <td>First Owner</td>\n",
       "      <td>23.00</td>\n",
       "      <td>1396.0</td>\n",
       "      <td>90</td>\n",
       "      <td>5.0</td>\n",
       "    </tr>\n",
       "    <tr>\n",
       "      <th>4</th>\n",
       "      <td>Maruti Swift VXI BSIII</td>\n",
       "      <td>18</td>\n",
       "      <td>130000</td>\n",
       "      <td>120000</td>\n",
       "      <td>Petrol</td>\n",
       "      <td>Individual</td>\n",
       "      <td>Manual</td>\n",
       "      <td>First Owner</td>\n",
       "      <td>16.10</td>\n",
       "      <td>1298.0</td>\n",
       "      <td>88.2</td>\n",
       "      <td>5.0</td>\n",
       "    </tr>\n",
       "  </tbody>\n",
       "</table>\n",
       "</div>"
      ]
     },
     "execution_count": 15,
     "metadata": {},
     "output_type": "execute_result"
    }
   ],
   "execution_count": 15
  },
  {
   "metadata": {
    "ExecuteTime": {
     "end_time": "2025-09-24T09:36:59.207023Z",
     "start_time": "2025-09-24T09:36:59.172788Z"
    }
   },
   "cell_type": "code",
   "source": "df.info()",
   "id": "14fe2a9f446e08a7",
   "outputs": [
    {
     "name": "stdout",
     "output_type": "stream",
     "text": [
      "<class 'pandas.core.frame.DataFrame'>\n",
      "Index: 6906 entries, 0 to 8125\n",
      "Data columns (total 12 columns):\n",
      " #   Column              Non-Null Count  Dtype  \n",
      "---  ------              --------------  -----  \n",
      " 0   name                6906 non-null   object \n",
      " 1   year                6906 non-null   int64  \n",
      " 2   selling_price       6906 non-null   int64  \n",
      " 3   km_driven           6906 non-null   int64  \n",
      " 4   fuel                6906 non-null   object \n",
      " 5   seller_type         6906 non-null   object \n",
      " 6   transmission        6906 non-null   object \n",
      " 7   owner               6906 non-null   object \n",
      " 8   mileage(km/ltr/kg)  6906 non-null   float64\n",
      " 9   engine              6698 non-null   float64\n",
      " 10  max_power           6701 non-null   object \n",
      " 11  seats               6698 non-null   float64\n",
      "dtypes: float64(3), int64(3), object(6)\n",
      "memory usage: 701.4+ KB\n"
     ]
    }
   ],
   "execution_count": 16
  },
  {
   "metadata": {},
   "cell_type": "markdown",
   "source": [
    "reason for setting realistic price limits\n",
    "distribution normalization - outliers significantly skew data hence hard for the mode to learn. Removing them ensures the data is well normalized hence the learning algorithms learn better.\n",
    "Variance reduction - outliers increase variance making it harder for model to establish consistent pattern."
   ],
   "id": "a4512a0f351b0613"
  },
  {
   "metadata": {},
   "cell_type": "markdown",
   "source": "11. Standardize the column names so they are all lowercase and contain underscores instead of spaces.\n",
   "id": "43166bc5eee85d22"
  },
  {
   "metadata": {
    "ExecuteTime": {
     "end_time": "2025-09-24T09:36:59.366328Z",
     "start_time": "2025-09-24T09:36:59.306168Z"
    }
   },
   "cell_type": "code",
   "source": [
    "df = df.rename(columns= {'name': 'name', 'year': 'year', 'selling_price' : 'selling_price', 'km_driven' : 'km_driven', 'fuel' : 'fuel', 'seller_type' : 'seller_type', 'transmission' : 'transmission', 'owner' : 'owner', 'mileage(km/ltr/kg)' : 'mileage', 'engine' : 'engine', 'max_power' : 'max_power', 'seats' : 'seats'})\n",
    "df.head()"
   ],
   "id": "16d7983e2ac520ee",
   "outputs": [
    {
     "data": {
      "text/plain": [
       "                           name  year  selling_price  km_driven    fuel  \\\n",
       "0        Maruti Swift Dzire VDI    11         450000     145500  Diesel   \n",
       "1  Skoda Rapid 1.5 TDI Ambition    11         370000     120000  Diesel   \n",
       "2      Honda City 2017-2020 EXi    19         158000     140000  Petrol   \n",
       "3     Hyundai i20 Sportz Diesel    15         225000     127000  Diesel   \n",
       "4        Maruti Swift VXI BSIII    18         130000     120000  Petrol   \n",
       "\n",
       "  seller_type transmission         owner  mileage  engine max_power  seats  \n",
       "0  Individual       Manual   First Owner    23.40  1248.0        74    5.0  \n",
       "1  Individual       Manual  Second Owner    21.14  1498.0    103.52    5.0  \n",
       "2  Individual       Manual   Third Owner    17.70  1497.0        78    5.0  \n",
       "3  Individual       Manual   First Owner    23.00  1396.0        90    5.0  \n",
       "4  Individual       Manual   First Owner    16.10  1298.0      88.2    5.0  "
      ],
      "text/html": [
       "<div>\n",
       "<style scoped>\n",
       "    .dataframe tbody tr th:only-of-type {\n",
       "        vertical-align: middle;\n",
       "    }\n",
       "\n",
       "    .dataframe tbody tr th {\n",
       "        vertical-align: top;\n",
       "    }\n",
       "\n",
       "    .dataframe thead th {\n",
       "        text-align: right;\n",
       "    }\n",
       "</style>\n",
       "<table border=\"1\" class=\"dataframe\">\n",
       "  <thead>\n",
       "    <tr style=\"text-align: right;\">\n",
       "      <th></th>\n",
       "      <th>name</th>\n",
       "      <th>year</th>\n",
       "      <th>selling_price</th>\n",
       "      <th>km_driven</th>\n",
       "      <th>fuel</th>\n",
       "      <th>seller_type</th>\n",
       "      <th>transmission</th>\n",
       "      <th>owner</th>\n",
       "      <th>mileage</th>\n",
       "      <th>engine</th>\n",
       "      <th>max_power</th>\n",
       "      <th>seats</th>\n",
       "    </tr>\n",
       "  </thead>\n",
       "  <tbody>\n",
       "    <tr>\n",
       "      <th>0</th>\n",
       "      <td>Maruti Swift Dzire VDI</td>\n",
       "      <td>11</td>\n",
       "      <td>450000</td>\n",
       "      <td>145500</td>\n",
       "      <td>Diesel</td>\n",
       "      <td>Individual</td>\n",
       "      <td>Manual</td>\n",
       "      <td>First Owner</td>\n",
       "      <td>23.40</td>\n",
       "      <td>1248.0</td>\n",
       "      <td>74</td>\n",
       "      <td>5.0</td>\n",
       "    </tr>\n",
       "    <tr>\n",
       "      <th>1</th>\n",
       "      <td>Skoda Rapid 1.5 TDI Ambition</td>\n",
       "      <td>11</td>\n",
       "      <td>370000</td>\n",
       "      <td>120000</td>\n",
       "      <td>Diesel</td>\n",
       "      <td>Individual</td>\n",
       "      <td>Manual</td>\n",
       "      <td>Second Owner</td>\n",
       "      <td>21.14</td>\n",
       "      <td>1498.0</td>\n",
       "      <td>103.52</td>\n",
       "      <td>5.0</td>\n",
       "    </tr>\n",
       "    <tr>\n",
       "      <th>2</th>\n",
       "      <td>Honda City 2017-2020 EXi</td>\n",
       "      <td>19</td>\n",
       "      <td>158000</td>\n",
       "      <td>140000</td>\n",
       "      <td>Petrol</td>\n",
       "      <td>Individual</td>\n",
       "      <td>Manual</td>\n",
       "      <td>Third Owner</td>\n",
       "      <td>17.70</td>\n",
       "      <td>1497.0</td>\n",
       "      <td>78</td>\n",
       "      <td>5.0</td>\n",
       "    </tr>\n",
       "    <tr>\n",
       "      <th>3</th>\n",
       "      <td>Hyundai i20 Sportz Diesel</td>\n",
       "      <td>15</td>\n",
       "      <td>225000</td>\n",
       "      <td>127000</td>\n",
       "      <td>Diesel</td>\n",
       "      <td>Individual</td>\n",
       "      <td>Manual</td>\n",
       "      <td>First Owner</td>\n",
       "      <td>23.00</td>\n",
       "      <td>1396.0</td>\n",
       "      <td>90</td>\n",
       "      <td>5.0</td>\n",
       "    </tr>\n",
       "    <tr>\n",
       "      <th>4</th>\n",
       "      <td>Maruti Swift VXI BSIII</td>\n",
       "      <td>18</td>\n",
       "      <td>130000</td>\n",
       "      <td>120000</td>\n",
       "      <td>Petrol</td>\n",
       "      <td>Individual</td>\n",
       "      <td>Manual</td>\n",
       "      <td>First Owner</td>\n",
       "      <td>16.10</td>\n",
       "      <td>1298.0</td>\n",
       "      <td>88.2</td>\n",
       "      <td>5.0</td>\n",
       "    </tr>\n",
       "  </tbody>\n",
       "</table>\n",
       "</div>"
      ]
     },
     "execution_count": 17,
     "metadata": {},
     "output_type": "execute_result"
    }
   ],
   "execution_count": 17
  },
  {
   "metadata": {},
   "cell_type": "markdown",
   "source": "12. Check if any numerical columns are stored as strings and convert them to numbers.\n",
   "id": "ce8f46173313d40"
  },
  {
   "metadata": {
    "ExecuteTime": {
     "end_time": "2025-09-24T09:36:59.515110Z",
     "start_time": "2025-09-24T09:36:59.486900Z"
    }
   },
   "cell_type": "code",
   "source": "df.info()",
   "id": "71b6fdc90abc7bfc",
   "outputs": [
    {
     "name": "stdout",
     "output_type": "stream",
     "text": [
      "<class 'pandas.core.frame.DataFrame'>\n",
      "Index: 6906 entries, 0 to 8125\n",
      "Data columns (total 12 columns):\n",
      " #   Column         Non-Null Count  Dtype  \n",
      "---  ------         --------------  -----  \n",
      " 0   name           6906 non-null   object \n",
      " 1   year           6906 non-null   int64  \n",
      " 2   selling_price  6906 non-null   int64  \n",
      " 3   km_driven      6906 non-null   int64  \n",
      " 4   fuel           6906 non-null   object \n",
      " 5   seller_type    6906 non-null   object \n",
      " 6   transmission   6906 non-null   object \n",
      " 7   owner          6906 non-null   object \n",
      " 8   mileage        6906 non-null   float64\n",
      " 9   engine         6698 non-null   float64\n",
      " 10  max_power      6701 non-null   object \n",
      " 11  seats          6698 non-null   float64\n",
      "dtypes: float64(3), int64(3), object(6)\n",
      "memory usage: 701.4+ KB\n"
     ]
    }
   ],
   "execution_count": 18
  },
  {
   "metadata": {
    "ExecuteTime": {
     "end_time": "2025-09-24T09:36:59.866214Z",
     "start_time": "2025-09-24T09:36:59.832841Z"
    }
   },
   "cell_type": "code",
   "source": [
    "# converting max_power from an object to an integer\n",
    "# mean_max_power = df['max_power'].mean()\n",
    "df['max_power'] = df['max_power'].fillna('null')\n",
    "df.info()"
   ],
   "id": "881d3393cd027fad",
   "outputs": [
    {
     "name": "stdout",
     "output_type": "stream",
     "text": [
      "<class 'pandas.core.frame.DataFrame'>\n",
      "Index: 6906 entries, 0 to 8125\n",
      "Data columns (total 12 columns):\n",
      " #   Column         Non-Null Count  Dtype  \n",
      "---  ------         --------------  -----  \n",
      " 0   name           6906 non-null   object \n",
      " 1   year           6906 non-null   int64  \n",
      " 2   selling_price  6906 non-null   int64  \n",
      " 3   km_driven      6906 non-null   int64  \n",
      " 4   fuel           6906 non-null   object \n",
      " 5   seller_type    6906 non-null   object \n",
      " 6   transmission   6906 non-null   object \n",
      " 7   owner          6906 non-null   object \n",
      " 8   mileage        6906 non-null   float64\n",
      " 9   engine         6698 non-null   float64\n",
      " 10  max_power      6906 non-null   object \n",
      " 11  seats          6698 non-null   float64\n",
      "dtypes: float64(3), int64(3), object(6)\n",
      "memory usage: 701.4+ KB\n"
     ]
    }
   ],
   "execution_count": 19
  },
  {
   "metadata": {
    "ExecuteTime": {
     "end_time": "2025-09-24T09:37:00.122973Z",
     "start_time": "2025-09-24T09:37:00.006600Z"
    }
   },
   "cell_type": "code",
   "source": [
    "\n",
    "df['max_power'] = df['max_power'].astype(str).str.strip()  #remove leading/trailing spaces\n",
    "df['max_power'] = df['max_power'].replace(['null', '', 'NULL', 'Null', 'nan'], 0)\n",
    "df['max_power'] = pd.to_numeric(df['max_power'], errors='coerce').fillna(0)"
   ],
   "id": "bd2ce56e573f83f8",
   "outputs": [],
   "execution_count": 20
  },
  {
   "metadata": {
    "ExecuteTime": {
     "end_time": "2025-09-24T09:37:00.249498Z",
     "start_time": "2025-09-24T09:37:00.241581Z"
    }
   },
   "cell_type": "code",
   "source": "df['max_power'] = df['max_power'].astype(float)",
   "id": "f980f6cdc1928702",
   "outputs": [],
   "execution_count": 21
  },
  {
   "metadata": {
    "ExecuteTime": {
     "end_time": "2025-09-24T09:37:00.385642Z",
     "start_time": "2025-09-24T09:37:00.347383Z"
    }
   },
   "cell_type": "code",
   "source": "df.info()",
   "id": "ed53645882467b4c",
   "outputs": [
    {
     "name": "stdout",
     "output_type": "stream",
     "text": [
      "<class 'pandas.core.frame.DataFrame'>\n",
      "Index: 6906 entries, 0 to 8125\n",
      "Data columns (total 12 columns):\n",
      " #   Column         Non-Null Count  Dtype  \n",
      "---  ------         --------------  -----  \n",
      " 0   name           6906 non-null   object \n",
      " 1   year           6906 non-null   int64  \n",
      " 2   selling_price  6906 non-null   int64  \n",
      " 3   km_driven      6906 non-null   int64  \n",
      " 4   fuel           6906 non-null   object \n",
      " 5   seller_type    6906 non-null   object \n",
      " 6   transmission   6906 non-null   object \n",
      " 7   owner          6906 non-null   object \n",
      " 8   mileage        6906 non-null   float64\n",
      " 9   engine         6698 non-null   float64\n",
      " 10  max_power      6906 non-null   float64\n",
      " 11  seats          6698 non-null   float64\n",
      "dtypes: float64(4), int64(3), object(5)\n",
      "memory usage: 701.4+ KB\n"
     ]
    }
   ],
   "execution_count": 22
  },
  {
   "metadata": {},
   "cell_type": "markdown",
   "source": "13. Create a new column for “price per kilometer” by dividing the selling price by the mileage.\n",
   "id": "e7e98b9288e303f1"
  },
  {
   "metadata": {
    "ExecuteTime": {
     "end_time": "2025-09-24T09:37:00.801123Z",
     "start_time": "2025-09-24T09:37:00.552755Z"
    }
   },
   "cell_type": "code",
   "source": [
    "df['price_per_kg'] = df.apply(\n",
    "    lambda row: 0 if row['mileage'] == 0 else row['selling_price'] / row['mileage'],\n",
    "    axis=1\n",
    ")\n",
    "df.head()"
   ],
   "id": "513e63f601930e11",
   "outputs": [
    {
     "data": {
      "text/plain": [
       "                           name  year  selling_price  km_driven    fuel  \\\n",
       "0        Maruti Swift Dzire VDI    11         450000     145500  Diesel   \n",
       "1  Skoda Rapid 1.5 TDI Ambition    11         370000     120000  Diesel   \n",
       "2      Honda City 2017-2020 EXi    19         158000     140000  Petrol   \n",
       "3     Hyundai i20 Sportz Diesel    15         225000     127000  Diesel   \n",
       "4        Maruti Swift VXI BSIII    18         130000     120000  Petrol   \n",
       "\n",
       "  seller_type transmission         owner  mileage  engine  max_power  seats  \\\n",
       "0  Individual       Manual   First Owner    23.40  1248.0      74.00    5.0   \n",
       "1  Individual       Manual  Second Owner    21.14  1498.0     103.52    5.0   \n",
       "2  Individual       Manual   Third Owner    17.70  1497.0      78.00    5.0   \n",
       "3  Individual       Manual   First Owner    23.00  1396.0      90.00    5.0   \n",
       "4  Individual       Manual   First Owner    16.10  1298.0      88.20    5.0   \n",
       "\n",
       "   price_per_kg  \n",
       "0  19230.769231  \n",
       "1  17502.365184  \n",
       "2   8926.553672  \n",
       "3   9782.608696  \n",
       "4   8074.534161  "
      ],
      "text/html": [
       "<div>\n",
       "<style scoped>\n",
       "    .dataframe tbody tr th:only-of-type {\n",
       "        vertical-align: middle;\n",
       "    }\n",
       "\n",
       "    .dataframe tbody tr th {\n",
       "        vertical-align: top;\n",
       "    }\n",
       "\n",
       "    .dataframe thead th {\n",
       "        text-align: right;\n",
       "    }\n",
       "</style>\n",
       "<table border=\"1\" class=\"dataframe\">\n",
       "  <thead>\n",
       "    <tr style=\"text-align: right;\">\n",
       "      <th></th>\n",
       "      <th>name</th>\n",
       "      <th>year</th>\n",
       "      <th>selling_price</th>\n",
       "      <th>km_driven</th>\n",
       "      <th>fuel</th>\n",
       "      <th>seller_type</th>\n",
       "      <th>transmission</th>\n",
       "      <th>owner</th>\n",
       "      <th>mileage</th>\n",
       "      <th>engine</th>\n",
       "      <th>max_power</th>\n",
       "      <th>seats</th>\n",
       "      <th>price_per_kg</th>\n",
       "    </tr>\n",
       "  </thead>\n",
       "  <tbody>\n",
       "    <tr>\n",
       "      <th>0</th>\n",
       "      <td>Maruti Swift Dzire VDI</td>\n",
       "      <td>11</td>\n",
       "      <td>450000</td>\n",
       "      <td>145500</td>\n",
       "      <td>Diesel</td>\n",
       "      <td>Individual</td>\n",
       "      <td>Manual</td>\n",
       "      <td>First Owner</td>\n",
       "      <td>23.40</td>\n",
       "      <td>1248.0</td>\n",
       "      <td>74.00</td>\n",
       "      <td>5.0</td>\n",
       "      <td>19230.769231</td>\n",
       "    </tr>\n",
       "    <tr>\n",
       "      <th>1</th>\n",
       "      <td>Skoda Rapid 1.5 TDI Ambition</td>\n",
       "      <td>11</td>\n",
       "      <td>370000</td>\n",
       "      <td>120000</td>\n",
       "      <td>Diesel</td>\n",
       "      <td>Individual</td>\n",
       "      <td>Manual</td>\n",
       "      <td>Second Owner</td>\n",
       "      <td>21.14</td>\n",
       "      <td>1498.0</td>\n",
       "      <td>103.52</td>\n",
       "      <td>5.0</td>\n",
       "      <td>17502.365184</td>\n",
       "    </tr>\n",
       "    <tr>\n",
       "      <th>2</th>\n",
       "      <td>Honda City 2017-2020 EXi</td>\n",
       "      <td>19</td>\n",
       "      <td>158000</td>\n",
       "      <td>140000</td>\n",
       "      <td>Petrol</td>\n",
       "      <td>Individual</td>\n",
       "      <td>Manual</td>\n",
       "      <td>Third Owner</td>\n",
       "      <td>17.70</td>\n",
       "      <td>1497.0</td>\n",
       "      <td>78.00</td>\n",
       "      <td>5.0</td>\n",
       "      <td>8926.553672</td>\n",
       "    </tr>\n",
       "    <tr>\n",
       "      <th>3</th>\n",
       "      <td>Hyundai i20 Sportz Diesel</td>\n",
       "      <td>15</td>\n",
       "      <td>225000</td>\n",
       "      <td>127000</td>\n",
       "      <td>Diesel</td>\n",
       "      <td>Individual</td>\n",
       "      <td>Manual</td>\n",
       "      <td>First Owner</td>\n",
       "      <td>23.00</td>\n",
       "      <td>1396.0</td>\n",
       "      <td>90.00</td>\n",
       "      <td>5.0</td>\n",
       "      <td>9782.608696</td>\n",
       "    </tr>\n",
       "    <tr>\n",
       "      <th>4</th>\n",
       "      <td>Maruti Swift VXI BSIII</td>\n",
       "      <td>18</td>\n",
       "      <td>130000</td>\n",
       "      <td>120000</td>\n",
       "      <td>Petrol</td>\n",
       "      <td>Individual</td>\n",
       "      <td>Manual</td>\n",
       "      <td>First Owner</td>\n",
       "      <td>16.10</td>\n",
       "      <td>1298.0</td>\n",
       "      <td>88.20</td>\n",
       "      <td>5.0</td>\n",
       "      <td>8074.534161</td>\n",
       "    </tr>\n",
       "  </tbody>\n",
       "</table>\n",
       "</div>"
      ]
     },
     "execution_count": 23,
     "metadata": {},
     "output_type": "execute_result"
    }
   ],
   "execution_count": 23
  },
  {
   "metadata": {
    "ExecuteTime": {
     "end_time": "2025-09-24T09:37:00.973283Z",
     "start_time": "2025-09-24T09:37:00.908608Z"
    }
   },
   "cell_type": "code",
   "source": [
    "# remove the decimals in price per kg.\n",
    "df['price_per_kg'] = df['price_per_kg'].astype(int)\n",
    "df.head()"
   ],
   "id": "5bb21a05627b1577",
   "outputs": [
    {
     "data": {
      "text/plain": [
       "                           name  year  selling_price  km_driven    fuel  \\\n",
       "0        Maruti Swift Dzire VDI    11         450000     145500  Diesel   \n",
       "1  Skoda Rapid 1.5 TDI Ambition    11         370000     120000  Diesel   \n",
       "2      Honda City 2017-2020 EXi    19         158000     140000  Petrol   \n",
       "3     Hyundai i20 Sportz Diesel    15         225000     127000  Diesel   \n",
       "4        Maruti Swift VXI BSIII    18         130000     120000  Petrol   \n",
       "\n",
       "  seller_type transmission         owner  mileage  engine  max_power  seats  \\\n",
       "0  Individual       Manual   First Owner    23.40  1248.0      74.00    5.0   \n",
       "1  Individual       Manual  Second Owner    21.14  1498.0     103.52    5.0   \n",
       "2  Individual       Manual   Third Owner    17.70  1497.0      78.00    5.0   \n",
       "3  Individual       Manual   First Owner    23.00  1396.0      90.00    5.0   \n",
       "4  Individual       Manual   First Owner    16.10  1298.0      88.20    5.0   \n",
       "\n",
       "   price_per_kg  \n",
       "0         19230  \n",
       "1         17502  \n",
       "2          8926  \n",
       "3          9782  \n",
       "4          8074  "
      ],
      "text/html": [
       "<div>\n",
       "<style scoped>\n",
       "    .dataframe tbody tr th:only-of-type {\n",
       "        vertical-align: middle;\n",
       "    }\n",
       "\n",
       "    .dataframe tbody tr th {\n",
       "        vertical-align: top;\n",
       "    }\n",
       "\n",
       "    .dataframe thead th {\n",
       "        text-align: right;\n",
       "    }\n",
       "</style>\n",
       "<table border=\"1\" class=\"dataframe\">\n",
       "  <thead>\n",
       "    <tr style=\"text-align: right;\">\n",
       "      <th></th>\n",
       "      <th>name</th>\n",
       "      <th>year</th>\n",
       "      <th>selling_price</th>\n",
       "      <th>km_driven</th>\n",
       "      <th>fuel</th>\n",
       "      <th>seller_type</th>\n",
       "      <th>transmission</th>\n",
       "      <th>owner</th>\n",
       "      <th>mileage</th>\n",
       "      <th>engine</th>\n",
       "      <th>max_power</th>\n",
       "      <th>seats</th>\n",
       "      <th>price_per_kg</th>\n",
       "    </tr>\n",
       "  </thead>\n",
       "  <tbody>\n",
       "    <tr>\n",
       "      <th>0</th>\n",
       "      <td>Maruti Swift Dzire VDI</td>\n",
       "      <td>11</td>\n",
       "      <td>450000</td>\n",
       "      <td>145500</td>\n",
       "      <td>Diesel</td>\n",
       "      <td>Individual</td>\n",
       "      <td>Manual</td>\n",
       "      <td>First Owner</td>\n",
       "      <td>23.40</td>\n",
       "      <td>1248.0</td>\n",
       "      <td>74.00</td>\n",
       "      <td>5.0</td>\n",
       "      <td>19230</td>\n",
       "    </tr>\n",
       "    <tr>\n",
       "      <th>1</th>\n",
       "      <td>Skoda Rapid 1.5 TDI Ambition</td>\n",
       "      <td>11</td>\n",
       "      <td>370000</td>\n",
       "      <td>120000</td>\n",
       "      <td>Diesel</td>\n",
       "      <td>Individual</td>\n",
       "      <td>Manual</td>\n",
       "      <td>Second Owner</td>\n",
       "      <td>21.14</td>\n",
       "      <td>1498.0</td>\n",
       "      <td>103.52</td>\n",
       "      <td>5.0</td>\n",
       "      <td>17502</td>\n",
       "    </tr>\n",
       "    <tr>\n",
       "      <th>2</th>\n",
       "      <td>Honda City 2017-2020 EXi</td>\n",
       "      <td>19</td>\n",
       "      <td>158000</td>\n",
       "      <td>140000</td>\n",
       "      <td>Petrol</td>\n",
       "      <td>Individual</td>\n",
       "      <td>Manual</td>\n",
       "      <td>Third Owner</td>\n",
       "      <td>17.70</td>\n",
       "      <td>1497.0</td>\n",
       "      <td>78.00</td>\n",
       "      <td>5.0</td>\n",
       "      <td>8926</td>\n",
       "    </tr>\n",
       "    <tr>\n",
       "      <th>3</th>\n",
       "      <td>Hyundai i20 Sportz Diesel</td>\n",
       "      <td>15</td>\n",
       "      <td>225000</td>\n",
       "      <td>127000</td>\n",
       "      <td>Diesel</td>\n",
       "      <td>Individual</td>\n",
       "      <td>Manual</td>\n",
       "      <td>First Owner</td>\n",
       "      <td>23.00</td>\n",
       "      <td>1396.0</td>\n",
       "      <td>90.00</td>\n",
       "      <td>5.0</td>\n",
       "      <td>9782</td>\n",
       "    </tr>\n",
       "    <tr>\n",
       "      <th>4</th>\n",
       "      <td>Maruti Swift VXI BSIII</td>\n",
       "      <td>18</td>\n",
       "      <td>130000</td>\n",
       "      <td>120000</td>\n",
       "      <td>Petrol</td>\n",
       "      <td>Individual</td>\n",
       "      <td>Manual</td>\n",
       "      <td>First Owner</td>\n",
       "      <td>16.10</td>\n",
       "      <td>1298.0</td>\n",
       "      <td>88.20</td>\n",
       "      <td>5.0</td>\n",
       "      <td>8074</td>\n",
       "    </tr>\n",
       "  </tbody>\n",
       "</table>\n",
       "</div>"
      ]
     },
     "execution_count": 24,
     "metadata": {},
     "output_type": "execute_result"
    }
   ],
   "execution_count": 24
  },
  {
   "metadata": {},
   "cell_type": "markdown",
   "source": "14. Ensure the dataset index is properly reset after cleaning.",
   "id": "b16368ee7abf58d0"
  },
  {
   "metadata": {
    "ExecuteTime": {
     "end_time": "2025-09-24T09:37:01.227379Z",
     "start_time": "2025-09-24T09:37:01.159093Z"
    }
   },
   "cell_type": "code",
   "source": [
    "df = df.reset_index()\n",
    "df.head()"
   ],
   "id": "b0408b757912f030",
   "outputs": [
    {
     "data": {
      "text/plain": [
       "   index                          name  year  selling_price  km_driven  \\\n",
       "0      0        Maruti Swift Dzire VDI    11         450000     145500   \n",
       "1      1  Skoda Rapid 1.5 TDI Ambition    11         370000     120000   \n",
       "2      2      Honda City 2017-2020 EXi    19         158000     140000   \n",
       "3      3     Hyundai i20 Sportz Diesel    15         225000     127000   \n",
       "4      4        Maruti Swift VXI BSIII    18         130000     120000   \n",
       "\n",
       "     fuel seller_type transmission         owner  mileage  engine  max_power  \\\n",
       "0  Diesel  Individual       Manual   First Owner    23.40  1248.0      74.00   \n",
       "1  Diesel  Individual       Manual  Second Owner    21.14  1498.0     103.52   \n",
       "2  Petrol  Individual       Manual   Third Owner    17.70  1497.0      78.00   \n",
       "3  Diesel  Individual       Manual   First Owner    23.00  1396.0      90.00   \n",
       "4  Petrol  Individual       Manual   First Owner    16.10  1298.0      88.20   \n",
       "\n",
       "   seats  price_per_kg  \n",
       "0    5.0         19230  \n",
       "1    5.0         17502  \n",
       "2    5.0          8926  \n",
       "3    5.0          9782  \n",
       "4    5.0          8074  "
      ],
      "text/html": [
       "<div>\n",
       "<style scoped>\n",
       "    .dataframe tbody tr th:only-of-type {\n",
       "        vertical-align: middle;\n",
       "    }\n",
       "\n",
       "    .dataframe tbody tr th {\n",
       "        vertical-align: top;\n",
       "    }\n",
       "\n",
       "    .dataframe thead th {\n",
       "        text-align: right;\n",
       "    }\n",
       "</style>\n",
       "<table border=\"1\" class=\"dataframe\">\n",
       "  <thead>\n",
       "    <tr style=\"text-align: right;\">\n",
       "      <th></th>\n",
       "      <th>index</th>\n",
       "      <th>name</th>\n",
       "      <th>year</th>\n",
       "      <th>selling_price</th>\n",
       "      <th>km_driven</th>\n",
       "      <th>fuel</th>\n",
       "      <th>seller_type</th>\n",
       "      <th>transmission</th>\n",
       "      <th>owner</th>\n",
       "      <th>mileage</th>\n",
       "      <th>engine</th>\n",
       "      <th>max_power</th>\n",
       "      <th>seats</th>\n",
       "      <th>price_per_kg</th>\n",
       "    </tr>\n",
       "  </thead>\n",
       "  <tbody>\n",
       "    <tr>\n",
       "      <th>0</th>\n",
       "      <td>0</td>\n",
       "      <td>Maruti Swift Dzire VDI</td>\n",
       "      <td>11</td>\n",
       "      <td>450000</td>\n",
       "      <td>145500</td>\n",
       "      <td>Diesel</td>\n",
       "      <td>Individual</td>\n",
       "      <td>Manual</td>\n",
       "      <td>First Owner</td>\n",
       "      <td>23.40</td>\n",
       "      <td>1248.0</td>\n",
       "      <td>74.00</td>\n",
       "      <td>5.0</td>\n",
       "      <td>19230</td>\n",
       "    </tr>\n",
       "    <tr>\n",
       "      <th>1</th>\n",
       "      <td>1</td>\n",
       "      <td>Skoda Rapid 1.5 TDI Ambition</td>\n",
       "      <td>11</td>\n",
       "      <td>370000</td>\n",
       "      <td>120000</td>\n",
       "      <td>Diesel</td>\n",
       "      <td>Individual</td>\n",
       "      <td>Manual</td>\n",
       "      <td>Second Owner</td>\n",
       "      <td>21.14</td>\n",
       "      <td>1498.0</td>\n",
       "      <td>103.52</td>\n",
       "      <td>5.0</td>\n",
       "      <td>17502</td>\n",
       "    </tr>\n",
       "    <tr>\n",
       "      <th>2</th>\n",
       "      <td>2</td>\n",
       "      <td>Honda City 2017-2020 EXi</td>\n",
       "      <td>19</td>\n",
       "      <td>158000</td>\n",
       "      <td>140000</td>\n",
       "      <td>Petrol</td>\n",
       "      <td>Individual</td>\n",
       "      <td>Manual</td>\n",
       "      <td>Third Owner</td>\n",
       "      <td>17.70</td>\n",
       "      <td>1497.0</td>\n",
       "      <td>78.00</td>\n",
       "      <td>5.0</td>\n",
       "      <td>8926</td>\n",
       "    </tr>\n",
       "    <tr>\n",
       "      <th>3</th>\n",
       "      <td>3</td>\n",
       "      <td>Hyundai i20 Sportz Diesel</td>\n",
       "      <td>15</td>\n",
       "      <td>225000</td>\n",
       "      <td>127000</td>\n",
       "      <td>Diesel</td>\n",
       "      <td>Individual</td>\n",
       "      <td>Manual</td>\n",
       "      <td>First Owner</td>\n",
       "      <td>23.00</td>\n",
       "      <td>1396.0</td>\n",
       "      <td>90.00</td>\n",
       "      <td>5.0</td>\n",
       "      <td>9782</td>\n",
       "    </tr>\n",
       "    <tr>\n",
       "      <th>4</th>\n",
       "      <td>4</td>\n",
       "      <td>Maruti Swift VXI BSIII</td>\n",
       "      <td>18</td>\n",
       "      <td>130000</td>\n",
       "      <td>120000</td>\n",
       "      <td>Petrol</td>\n",
       "      <td>Individual</td>\n",
       "      <td>Manual</td>\n",
       "      <td>First Owner</td>\n",
       "      <td>16.10</td>\n",
       "      <td>1298.0</td>\n",
       "      <td>88.20</td>\n",
       "      <td>5.0</td>\n",
       "      <td>8074</td>\n",
       "    </tr>\n",
       "  </tbody>\n",
       "</table>\n",
       "</div>"
      ]
     },
     "execution_count": 25,
     "metadata": {},
     "output_type": "execute_result"
    }
   ],
   "execution_count": 25
  },
  {
   "metadata": {},
   "cell_type": "markdown",
   "source": "Save your cleaned dataset as a new CSV file called cleaned_cars.csv.",
   "id": "5e941d4e1858f96b"
  },
  {
   "metadata": {
    "ExecuteTime": {
     "end_time": "2025-09-24T09:37:02.158977Z",
     "start_time": "2025-09-24T09:37:01.829707Z"
    }
   },
   "cell_type": "code",
   "source": "df.to_csv('cleaned_cars.csv', index=False)",
   "id": "dc890c5e0e460117",
   "outputs": [],
   "execution_count": 26
  },
  {
   "metadata": {},
   "cell_type": "markdown",
   "source": "16. Find the average selling price of cars in the dataset.\n",
   "id": "f10b9e0ff20a611d"
  },
  {
   "metadata": {
    "ExecuteTime": {
     "end_time": "2025-09-24T09:37:02.572818Z",
     "start_time": "2025-09-24T09:37:02.420330Z"
    }
   },
   "cell_type": "code",
   "source": [
    "# first open new csv as a dataframe\n",
    "df = pd.read_csv(r\"cleaned_cars.csv\")\n",
    "df.head()"
   ],
   "id": "133ec1d0c6511cdf",
   "outputs": [
    {
     "data": {
      "text/plain": [
       "   index                          name  year  selling_price  km_driven  \\\n",
       "0      0        Maruti Swift Dzire VDI    11         450000     145500   \n",
       "1      1  Skoda Rapid 1.5 TDI Ambition    11         370000     120000   \n",
       "2      2      Honda City 2017-2020 EXi    19         158000     140000   \n",
       "3      3     Hyundai i20 Sportz Diesel    15         225000     127000   \n",
       "4      4        Maruti Swift VXI BSIII    18         130000     120000   \n",
       "\n",
       "     fuel seller_type transmission         owner  mileage  engine  max_power  \\\n",
       "0  Diesel  Individual       Manual   First Owner    23.40  1248.0      74.00   \n",
       "1  Diesel  Individual       Manual  Second Owner    21.14  1498.0     103.52   \n",
       "2  Petrol  Individual       Manual   Third Owner    17.70  1497.0      78.00   \n",
       "3  Diesel  Individual       Manual   First Owner    23.00  1396.0      90.00   \n",
       "4  Petrol  Individual       Manual   First Owner    16.10  1298.0      88.20   \n",
       "\n",
       "   seats  price_per_kg  \n",
       "0    5.0         19230  \n",
       "1    5.0         17502  \n",
       "2    5.0          8926  \n",
       "3    5.0          9782  \n",
       "4    5.0          8074  "
      ],
      "text/html": [
       "<div>\n",
       "<style scoped>\n",
       "    .dataframe tbody tr th:only-of-type {\n",
       "        vertical-align: middle;\n",
       "    }\n",
       "\n",
       "    .dataframe tbody tr th {\n",
       "        vertical-align: top;\n",
       "    }\n",
       "\n",
       "    .dataframe thead th {\n",
       "        text-align: right;\n",
       "    }\n",
       "</style>\n",
       "<table border=\"1\" class=\"dataframe\">\n",
       "  <thead>\n",
       "    <tr style=\"text-align: right;\">\n",
       "      <th></th>\n",
       "      <th>index</th>\n",
       "      <th>name</th>\n",
       "      <th>year</th>\n",
       "      <th>selling_price</th>\n",
       "      <th>km_driven</th>\n",
       "      <th>fuel</th>\n",
       "      <th>seller_type</th>\n",
       "      <th>transmission</th>\n",
       "      <th>owner</th>\n",
       "      <th>mileage</th>\n",
       "      <th>engine</th>\n",
       "      <th>max_power</th>\n",
       "      <th>seats</th>\n",
       "      <th>price_per_kg</th>\n",
       "    </tr>\n",
       "  </thead>\n",
       "  <tbody>\n",
       "    <tr>\n",
       "      <th>0</th>\n",
       "      <td>0</td>\n",
       "      <td>Maruti Swift Dzire VDI</td>\n",
       "      <td>11</td>\n",
       "      <td>450000</td>\n",
       "      <td>145500</td>\n",
       "      <td>Diesel</td>\n",
       "      <td>Individual</td>\n",
       "      <td>Manual</td>\n",
       "      <td>First Owner</td>\n",
       "      <td>23.40</td>\n",
       "      <td>1248.0</td>\n",
       "      <td>74.00</td>\n",
       "      <td>5.0</td>\n",
       "      <td>19230</td>\n",
       "    </tr>\n",
       "    <tr>\n",
       "      <th>1</th>\n",
       "      <td>1</td>\n",
       "      <td>Skoda Rapid 1.5 TDI Ambition</td>\n",
       "      <td>11</td>\n",
       "      <td>370000</td>\n",
       "      <td>120000</td>\n",
       "      <td>Diesel</td>\n",
       "      <td>Individual</td>\n",
       "      <td>Manual</td>\n",
       "      <td>Second Owner</td>\n",
       "      <td>21.14</td>\n",
       "      <td>1498.0</td>\n",
       "      <td>103.52</td>\n",
       "      <td>5.0</td>\n",
       "      <td>17502</td>\n",
       "    </tr>\n",
       "    <tr>\n",
       "      <th>2</th>\n",
       "      <td>2</td>\n",
       "      <td>Honda City 2017-2020 EXi</td>\n",
       "      <td>19</td>\n",
       "      <td>158000</td>\n",
       "      <td>140000</td>\n",
       "      <td>Petrol</td>\n",
       "      <td>Individual</td>\n",
       "      <td>Manual</td>\n",
       "      <td>Third Owner</td>\n",
       "      <td>17.70</td>\n",
       "      <td>1497.0</td>\n",
       "      <td>78.00</td>\n",
       "      <td>5.0</td>\n",
       "      <td>8926</td>\n",
       "    </tr>\n",
       "    <tr>\n",
       "      <th>3</th>\n",
       "      <td>3</td>\n",
       "      <td>Hyundai i20 Sportz Diesel</td>\n",
       "      <td>15</td>\n",
       "      <td>225000</td>\n",
       "      <td>127000</td>\n",
       "      <td>Diesel</td>\n",
       "      <td>Individual</td>\n",
       "      <td>Manual</td>\n",
       "      <td>First Owner</td>\n",
       "      <td>23.00</td>\n",
       "      <td>1396.0</td>\n",
       "      <td>90.00</td>\n",
       "      <td>5.0</td>\n",
       "      <td>9782</td>\n",
       "    </tr>\n",
       "    <tr>\n",
       "      <th>4</th>\n",
       "      <td>4</td>\n",
       "      <td>Maruti Swift VXI BSIII</td>\n",
       "      <td>18</td>\n",
       "      <td>130000</td>\n",
       "      <td>120000</td>\n",
       "      <td>Petrol</td>\n",
       "      <td>Individual</td>\n",
       "      <td>Manual</td>\n",
       "      <td>First Owner</td>\n",
       "      <td>16.10</td>\n",
       "      <td>1298.0</td>\n",
       "      <td>88.20</td>\n",
       "      <td>5.0</td>\n",
       "      <td>8074</td>\n",
       "    </tr>\n",
       "  </tbody>\n",
       "</table>\n",
       "</div>"
      ]
     },
     "execution_count": 27,
     "metadata": {},
     "output_type": "execute_result"
    }
   ],
   "execution_count": 27
  },
  {
   "metadata": {
    "ExecuteTime": {
     "end_time": "2025-09-24T09:37:03.199096Z",
     "start_time": "2025-09-24T09:37:03.185439Z"
    }
   },
   "cell_type": "code",
   "source": [
    "# find the mean of the dataframe\n",
    "avg_price = df['selling_price'].mean()\n",
    "print(avg_price)"
   ],
   "id": "68948fd77c57d200",
   "outputs": [
    {
     "name": "stdout",
     "output_type": "stream",
     "text": [
      "501378.18114682887\n"
     ]
    }
   ],
   "execution_count": 28
  },
  {
   "metadata": {},
   "cell_type": "markdown",
   "source": "17. Find the most common fuel type in the dataset.\n",
   "id": "11f45e5fcd08b812"
  },
  {
   "metadata": {
    "ExecuteTime": {
     "end_time": "2025-09-24T09:37:03.367533Z",
     "start_time": "2025-09-24T09:37:03.302437Z"
    }
   },
   "cell_type": "code",
   "source": [
    "# find among the exiting options in the fuel type column which occurs most\n",
    "fuel_order = df['fuel'].value_counts()\n",
    "most_common = fuel_order.index[0]\n",
    "print(fuel_order)\n",
    "print( f\" The most common fuel is {most_common}\")"
   ],
   "id": "afda4d4b55f23515",
   "outputs": [
    {
     "name": "stdout",
     "output_type": "stream",
     "text": [
      "fuel\n",
      "Diesel    3741\n",
      "Petrol    3071\n",
      "CNG         56\n",
      "LPG         38\n",
      "Name: count, dtype: int64\n",
      " The most common fuel is Diesel\n"
     ]
    }
   ],
   "execution_count": 29
  },
  {
   "metadata": {},
   "cell_type": "markdown",
   "source": "Plot a histogram of the selling prices.\n",
   "id": "b133b6b218b0b7cb"
  },
  {
   "metadata": {
    "ExecuteTime": {
     "end_time": "2025-09-24T09:37:04.267094Z",
     "start_time": "2025-09-24T09:37:03.555885Z"
    }
   },
   "cell_type": "code",
   "source": [
    "\n",
    "plt.figure(figsize = (10, 6))\n",
    "plt.hist(df['selling_price'], bins = 30, edgecolor = 'black', alpha = 0.7)\n",
    "plt.title('Distribution of car selling price')\n",
    "plt.xlabel('selling price')\n",
    "plt.ylabel('count')\n",
    "plt.ticklabel_format(style='scientific', axis='x', scilimits=(0,0))\n",
    "plt.grid(True, alpha=0.3)"
   ],
   "id": "158a5666e50bc824",
   "outputs": [
    {
     "data": {
      "text/plain": [
       "<Figure size 1000x600 with 1 Axes>"
      ],
      "image/png": "[encoded data removed]"
     },
     "metadata": {},
     "output_type": "display_data"
    }
   ],
   "execution_count": 30
  },
  {
   "metadata": {},
   "cell_type": "markdown",
   "source": "Plot the relationship between car age and selling price using a scatter plot.\n",
   "id": "366b7b4f1ac38e48"
  },
  {
   "metadata": {
    "ExecuteTime": {
     "end_time": "2025-09-24T09:37:05.265216Z",
     "start_time": "2025-09-24T09:37:04.360468Z"
    }
   },
   "cell_type": "code",
   "source": [
    "plt.scatter(df['year'], df['selling_price'], alpha = 0.6)\n",
    "plt.title('Relationship between car age and selling price')\n",
    "plt.xlabel('Car age')\n",
    "plt.ylabel('Selling Price')\n",
    "plt.show()"
   ],
   "id": "335cfd102c61aed3",
   "outputs": [
    {
     "data": {
      "text/plain": [
       "<Figure size 640x480 with 1 Axes>"
      ],
      "image/png": "[encoded data removed]"
     },
     "metadata": {},
     "output_type": "display_data"
    }
   ],
   "execution_count": 31
  },
  {
   "metadata": {},
   "cell_type": "markdown",
   "source": "20. Group cars by fuel type and find the average selling price for each group.\n",
   "id": "e1b742cc3b96dc38"
  },
  {
   "metadata": {
    "ExecuteTime": {
     "end_time": "2025-09-24T09:37:05.359141Z",
     "start_time": "2025-09-24T09:37:05.313864Z"
    }
   },
   "cell_type": "code",
   "source": [
    "# first group the cars\n",
    "fuel_groups = df.groupby('fuel')\n",
    "\n",
    "# find the average selling price\n",
    "avg_sellingPrice = fuel_groups['selling_price'].mean()\n",
    "\n",
    "# sort in descending order\n",
    "avg_sellingPrice = avg_sellingPrice.sort_values(ascending = False)\n",
    "\n",
    "print(avg_sellingPrice)\n"
   ],
   "id": "e4fb07e92e4e95d8",
   "outputs": [
    {
     "name": "stdout",
     "output_type": "stream",
     "text": [
      "fuel\n",
      "Diesel    620448.482224\n",
      "Petrol    363717.339629\n",
      "CNG       300499.946429\n",
      "LPG       200421.052632\n",
      "Name: selling_price, dtype: float64\n"
     ]
    }
   ],
   "execution_count": 32
  },
  {
   "metadata": {},
   "cell_type": "markdown",
   "source": "21. Plot a bar chart showing the number of cars per transmission type.\n",
   "id": "99c7a72cae8670df"
  },
  {
   "metadata": {
    "ExecuteTime": {
     "end_time": "2025-09-24T09:37:05.989656Z",
     "start_time": "2025-09-24T09:37:05.390528Z"
    }
   },
   "cell_type": "code",
   "source": [
    "transmission_counts = df['transmission'].value_counts()\n",
    "plt.figure(figsize = (8, 6))\n",
    "transmission_counts.plot(kind = 'bar', color = ['skyblue', 'orange'])\n",
    "plt.title('Number of cars per transmission type')\n",
    "plt.xlabel('Transmission Type')\n",
    "plt.ylabel('Count')\n",
    "plt.xticks(rotation = 0)\n",
    "plt.grid(True, alpha = 0.3)\n",
    "plt.show()"
   ],
   "id": "64b1461b8ea99661",
   "outputs": [
    {
     "data": {
      "text/plain": [
       "<Figure size 800x600 with 1 Axes>"
      ],
      "image/png": "[encoded data removed]"
     },
     "metadata": {},
     "output_type": "display_data"
    }
   ],
   "execution_count": 33
  },
  {
   "metadata": {},
   "cell_type": "markdown",
   "source": "22. Find the car with the highest mileage in the dataset.\n",
   "id": "8dde0738b2610d6e"
  },
  {
   "metadata": {
    "ExecuteTime": {
     "end_time": "2025-09-24T09:37:06.317250Z",
     "start_time": "2025-09-24T09:37:06.302011Z"
    }
   },
   "cell_type": "code",
   "source": [
    "# find the highest mileage value\n",
    "highest_mileage_value = df['mileage'].idxmax()\n",
    "# find the highest mileage car\n",
    "highest_mileage_car = df.loc[highest_mileage_value]\n",
    "print(f\"The car with the highest mileage is {highest_mileage_car}\")\n"
   ],
   "id": "51c57c736bac47b3",
   "outputs": [
    {
     "name": "stdout",
     "output_type": "stream",
     "text": [
      "The car with the highest mileage is index                                          35\n",
      "name             Maruti Alto 800 CNG LXI Optional\n",
      "year                                            6\n",
      "selling_price                              330000\n",
      "km_driven                                   10000\n",
      "fuel                                          CNG\n",
      "seller_type                            Individual\n",
      "transmission                               Manual\n",
      "owner                                Second Owner\n",
      "mileage                                     33.44\n",
      "engine                                      796.0\n",
      "max_power                                    40.3\n",
      "seats                                         4.0\n",
      "price_per_kg                                 9868\n",
      "Name: 35, dtype: object\n"
     ]
    }
   ],
   "execution_count": 34
  },
  {
   "metadata": {},
   "cell_type": "markdown",
   "source": "23. Calculate the correlation between mileage and selling price.\n",
   "id": "37a7ff081dd89325"
  },
  {
   "metadata": {
    "ExecuteTime": {
     "end_time": "2025-09-24T09:37:06.392519Z",
     "start_time": "2025-09-24T09:37:06.381273Z"
    }
   },
   "cell_type": "code",
   "source": [
    "correlation = df['mileage'].corr(df['selling_price'])\n",
    "print(f\"The correlation coefficient is {correlation:.4f}\")\n"
   ],
   "id": "8902e08d2dcbb4b8",
   "outputs": [
    {
     "name": "stdout",
     "output_type": "stream",
     "text": [
      "The correlation coefficient is -0.1207\n"
     ]
    }
   ],
   "execution_count": 35
  },
  {
   "metadata": {},
   "cell_type": "markdown",
   "source": "24. Plot a heatmap showing the correlations between all numeric columns.\n",
   "id": "fc355462054b4ff9"
  },
  {
   "metadata": {
    "ExecuteTime": {
     "end_time": "2025-09-24T09:37:07.054844Z",
     "start_time": "2025-09-24T09:37:06.486397Z"
    }
   },
   "cell_type": "code",
   "source": [
    "import seaborn as sns\n",
    "import numpy as np\n",
    "numeric_col = df.select_dtypes(include = [np.number]).columns\n",
    "correlation_matrix = df[numeric_col].corr()\n",
    "\n",
    "sns.heatmap(correlation_matrix, annot=True, cmap='coolwarm', center=0,\n",
    "            square=True, linewidths=0.5)\n",
    "plt.title('Correlation Matrix of all Numerical Column')\n",
    "plt.show()"
   ],
   "id": "81185a2f59c5ab5a",
   "outputs": [
    {
     "data": {
      "text/plain": [
       "<Figure size 640x480 with 2 Axes>"
      ],
      "image/png": "[encoded data removed]"
     },
     "metadata": {},
     "output_type": "display_data"
    }
   ],
   "execution_count": 36
  },
  {
   "metadata": {},
   "cell_type": "markdown",
   "source": "25. Check if manual cars are generally cheaper or more expensive than automatic cars.\n",
   "id": "cf6dbc4772700108"
  },
  {
   "metadata": {
    "ExecuteTime": {
     "end_time": "2025-09-24T09:37:07.098416Z",
     "start_time": "2025-09-24T09:37:07.059382Z"
    }
   },
   "cell_type": "code",
   "source": [
    "# first step, group by either auto or manual\n",
    "transmission_group = df.groupby('transmission')\n",
    "# find the median, mean and count in each\n",
    "transmission_price = transmission_group['selling_price'].agg(['mean', 'median', 'count'])\n",
    "print(transmission_price)\n",
    "\n",
    "manual_average = transmission_price.loc['Manual', 'mean']\n",
    "auto_average = transmission_price.loc['Automatic', 'mean']\n",
    "print(manual_average)\n",
    "print(auto_average)"
   ],
   "id": "10a13023ada3ec0d",
   "outputs": [
    {
     "name": "stdout",
     "output_type": "stream",
     "text": [
      "                      mean    median  count\n",
      "transmission                               \n",
      "Automatic     1.143215e+06  800000.0    564\n",
      "Manual        4.442991e+05  385000.0   6342\n",
      "444299.07489750866\n",
      "1143214.5141843972\n"
     ]
    }
   ],
   "execution_count": 37
  },
  {
   "metadata": {},
   "cell_type": "markdown",
   "source": "We conclude that manual cars are generally cheaper",
   "id": "f55670a91fcb3d73"
  },
  {
   "metadata": {},
   "cell_type": "markdown",
   "source": "26. Find the average selling price for each year of manufacture.\n",
   "id": "59050d0356d7d618"
  },
  {
   "metadata": {
    "ExecuteTime": {
     "end_time": "2025-09-24T09:37:57.311651Z",
     "start_time": "2025-09-24T09:37:57.259292Z"
    }
   },
   "cell_type": "code",
   "source": [
    "#  group the data into years of manufacture and get the average\n",
    "df.info()\n",
    "df.head()"
   ],
   "id": "219447f1aad19171",
   "outputs": [
    {
     "name": "stdout",
     "output_type": "stream",
     "text": [
      "<class 'pandas.core.frame.DataFrame'>\n",
      "RangeIndex: 6906 entries, 0 to 6905\n",
      "Data columns (total 14 columns):\n",
      " #   Column         Non-Null Count  Dtype  \n",
      "---  ------         --------------  -----  \n",
      " 0   index          6906 non-null   int64  \n",
      " 1   name           6906 non-null   object \n",
      " 2   year           6906 non-null   int64  \n",
      " 3   selling_price  6906 non-null   int64  \n",
      " 4   km_driven      6906 non-null   int64  \n",
      " 5   fuel           6906 non-null   object \n",
      " 6   seller_type    6906 non-null   object \n",
      " 7   transmission   6906 non-null   object \n",
      " 8   owner          6906 non-null   object \n",
      " 9   mileage        6906 non-null   float64\n",
      " 10  engine         6698 non-null   float64\n",
      " 11  max_power      6906 non-null   float64\n",
      " 12  seats          6698 non-null   float64\n",
      " 13  price_per_kg   6906 non-null   int64  \n",
      "dtypes: float64(4), int64(5), object(5)\n",
      "memory usage: 755.5+ KB\n"
     ]
    },
    {
     "data": {
      "text/plain": [
       "   index                          name  year  selling_price  km_driven  \\\n",
       "0      0        Maruti Swift Dzire VDI    11         450000     145500   \n",
       "1      1  Skoda Rapid 1.5 TDI Ambition    11         370000     120000   \n",
       "2      2      Honda City 2017-2020 EXi    19         158000     140000   \n",
       "3      3     Hyundai i20 Sportz Diesel    15         225000     127000   \n",
       "4      4        Maruti Swift VXI BSIII    18         130000     120000   \n",
       "\n",
       "     fuel seller_type transmission         owner  mileage  engine  max_power  \\\n",
       "0  Diesel  Individual       Manual   First Owner    23.40  1248.0      74.00   \n",
       "1  Diesel  Individual       Manual  Second Owner    21.14  1498.0     103.52   \n",
       "2  Petrol  Individual       Manual   Third Owner    17.70  1497.0      78.00   \n",
       "3  Diesel  Individual       Manual   First Owner    23.00  1396.0      90.00   \n",
       "4  Petrol  Individual       Manual   First Owner    16.10  1298.0      88.20   \n",
       "\n",
       "   seats  price_per_kg  \n",
       "0    5.0         19230  \n",
       "1    5.0         17502  \n",
       "2    5.0          8926  \n",
       "3    5.0          9782  \n",
       "4    5.0          8074  "
      ],
      "text/html": [
       "<div>\n",
       "<style scoped>\n",
       "    .dataframe tbody tr th:only-of-type {\n",
       "        vertical-align: middle;\n",
       "    }\n",
       "\n",
       "    .dataframe tbody tr th {\n",
       "        vertical-align: top;\n",
       "    }\n",
       "\n",
       "    .dataframe thead th {\n",
       "        text-align: right;\n",
       "    }\n",
       "</style>\n",
       "<table border=\"1\" class=\"dataframe\">\n",
       "  <thead>\n",
       "    <tr style=\"text-align: right;\">\n",
       "      <th></th>\n",
       "      <th>index</th>\n",
       "      <th>name</th>\n",
       "      <th>year</th>\n",
       "      <th>selling_price</th>\n",
       "      <th>km_driven</th>\n",
       "      <th>fuel</th>\n",
       "      <th>seller_type</th>\n",
       "      <th>transmission</th>\n",
       "      <th>owner</th>\n",
       "      <th>mileage</th>\n",
       "      <th>engine</th>\n",
       "      <th>max_power</th>\n",
       "      <th>seats</th>\n",
       "      <th>price_per_kg</th>\n",
       "    </tr>\n",
       "  </thead>\n",
       "  <tbody>\n",
       "    <tr>\n",
       "      <th>0</th>\n",
       "      <td>0</td>\n",
       "      <td>Maruti Swift Dzire VDI</td>\n",
       "      <td>11</td>\n",
       "      <td>450000</td>\n",
       "      <td>145500</td>\n",
       "      <td>Diesel</td>\n",
       "      <td>Individual</td>\n",
       "      <td>Manual</td>\n",
       "      <td>First Owner</td>\n",
       "      <td>23.40</td>\n",
       "      <td>1248.0</td>\n",
       "      <td>74.00</td>\n",
       "      <td>5.0</td>\n",
       "      <td>19230</td>\n",
       "    </tr>\n",
       "    <tr>\n",
       "      <th>1</th>\n",
       "      <td>1</td>\n",
       "      <td>Skoda Rapid 1.5 TDI Ambition</td>\n",
       "      <td>11</td>\n",
       "      <td>370000</td>\n",
       "      <td>120000</td>\n",
       "      <td>Diesel</td>\n",
       "      <td>Individual</td>\n",
       "      <td>Manual</td>\n",
       "      <td>Second Owner</td>\n",
       "      <td>21.14</td>\n",
       "      <td>1498.0</td>\n",
       "      <td>103.52</td>\n",
       "      <td>5.0</td>\n",
       "      <td>17502</td>\n",
       "    </tr>\n",
       "    <tr>\n",
       "      <th>2</th>\n",
       "      <td>2</td>\n",
       "      <td>Honda City 2017-2020 EXi</td>\n",
       "      <td>19</td>\n",
       "      <td>158000</td>\n",
       "      <td>140000</td>\n",
       "      <td>Petrol</td>\n",
       "      <td>Individual</td>\n",
       "      <td>Manual</td>\n",
       "      <td>Third Owner</td>\n",
       "      <td>17.70</td>\n",
       "      <td>1497.0</td>\n",
       "      <td>78.00</td>\n",
       "      <td>5.0</td>\n",
       "      <td>8926</td>\n",
       "    </tr>\n",
       "    <tr>\n",
       "      <th>3</th>\n",
       "      <td>3</td>\n",
       "      <td>Hyundai i20 Sportz Diesel</td>\n",
       "      <td>15</td>\n",
       "      <td>225000</td>\n",
       "      <td>127000</td>\n",
       "      <td>Diesel</td>\n",
       "      <td>Individual</td>\n",
       "      <td>Manual</td>\n",
       "      <td>First Owner</td>\n",
       "      <td>23.00</td>\n",
       "      <td>1396.0</td>\n",
       "      <td>90.00</td>\n",
       "      <td>5.0</td>\n",
       "      <td>9782</td>\n",
       "    </tr>\n",
       "    <tr>\n",
       "      <th>4</th>\n",
       "      <td>4</td>\n",
       "      <td>Maruti Swift VXI BSIII</td>\n",
       "      <td>18</td>\n",
       "      <td>130000</td>\n",
       "      <td>120000</td>\n",
       "      <td>Petrol</td>\n",
       "      <td>Individual</td>\n",
       "      <td>Manual</td>\n",
       "      <td>First Owner</td>\n",
       "      <td>16.10</td>\n",
       "      <td>1298.0</td>\n",
       "      <td>88.20</td>\n",
       "      <td>5.0</td>\n",
       "      <td>8074</td>\n",
       "    </tr>\n",
       "  </tbody>\n",
       "</table>\n",
       "</div>"
      ]
     },
     "execution_count": 40,
     "metadata": {},
     "output_type": "execute_result"
    }
   ],
   "execution_count": 40
  },
  {
   "metadata": {
    "ExecuteTime": {
     "end_time": "2025-09-24T09:44:01.893302Z",
     "start_time": "2025-09-24T09:44:01.873829Z"
    }
   },
   "cell_type": "code",
   "source": [
    "year_groups = df.groupby('year')\n",
    "year_groups_mean = year_groups['selling_price'].mean()\n",
    "year_groups_mean = year_groups_mean.sort_index()\n",
    "print(year_groups_mean)"
   ],
   "id": "ec735027085fa237",
   "outputs": [
    {
     "name": "stdout",
     "output_type": "stream",
     "text": [
      "year\n",
      "5     786548.338710\n",
      "6     795583.291667\n",
      "7     825749.553897\n",
      "8     708006.173913\n",
      "9     653180.339105\n",
      "10    589177.625551\n",
      "11    511858.798623\n",
      "12    451501.724199\n",
      "13    351387.379139\n",
      "14    318335.696751\n",
      "15    273897.334211\n",
      "16    227691.620833\n",
      "17    208397.639024\n",
      "18    174894.505682\n",
      "19    164383.308943\n",
      "20    137994.494505\n",
      "21    109364.250000\n",
      "22     97034.021277\n",
      "23     99153.807692\n",
      "24     47220.333333\n",
      "25     90047.850000\n",
      "26     71470.588235\n",
      "27     73100.000000\n",
      "28     90181.727273\n",
      "29     81666.666667\n",
      "30    107500.000000\n",
      "31     88000.000000\n",
      "34     55000.000000\n",
      "42    300000.000000\n",
      "Name: selling_price, dtype: float64\n"
     ]
    }
   ],
   "execution_count": 41
  },
  {
   "metadata": {},
   "cell_type": "markdown",
   "source": "27. Plot a line chart showing the trend of selling prices over the years.\n",
   "id": "42a831e6995e4ab2"
  },
  {
   "metadata": {
    "ExecuteTime": {
     "end_time": "2025-09-24T09:49:11.098069Z",
     "start_time": "2025-09-24T09:49:10.900646Z"
    }
   },
   "cell_type": "code",
   "source": [
    "year_groups_mean.plot(kind ='line', marker = 'o')\n",
    "plt.title(\"Average_selling_price over the years\")\n",
    "plt.xlabel('Years')\n",
    "plt.ylabel('Average selling price')\n",
    "plt.show()"
   ],
   "id": "12e482d22895f238",
   "outputs": [
    {
     "data": {
      "text/plain": [
       "<Figure size 640x480 with 1 Axes>"
      ],
      "image/png": "[encoded data removed]"
     },
     "metadata": {},
     "output_type": "display_data"
    }
   ],
   "execution_count": 42
  },
  {
   "metadata": {},
   "cell_type": "markdown",
   "source": "28. Find the most expensive car for each fuel type.\n",
   "id": "a744677967098420"
  },
  {
   "metadata": {
    "ExecuteTime": {
     "end_time": "2025-09-24T10:10:50.038854Z",
     "start_time": "2025-09-24T10:10:50.009417Z"
    }
   },
   "cell_type": "code",
   "source": [
    "# Group the data by fuel type.\n",
    "# find most expensive for each type\n",
    "fuel_groups = df.groupby('fuel')\n",
    "most_exp = df.loc[fuel_groups['selling_price'].idxmax()]\n",
    "print(most_exp)"
   ],
   "id": "d62202312754bf5f",
   "outputs": [
    {
     "name": "stdout",
     "output_type": "stream",
     "text": [
      "      index                                      name  year  selling_price  \\\n",
      "4961   5749     Maruti Ertiga VXI CNG Limited Edition    11         545000   \n",
      "283     288  Mercedes-Benz GL-Class 220d 4MATIC Sport     7        4600000   \n",
      "2783   3042               Hyundai i10 Sportz 1.1L LPG    10         375000   \n",
      "133     134           Jeep Wrangler 2016-2019 3.6 4X4     8        4100000   \n",
      "\n",
      "      km_driven    fuel seller_type transmission        owner  mileage  \\\n",
      "4961      35000     CNG  Individual       Manual  First Owner     22.8   \n",
      "283        7976  Diesel  Individual    Automatic  First Owner     17.9   \n",
      "2783      60000     LPG  Individual       Manual  First Owner     19.2   \n",
      "133       17000  Petrol  Individual    Automatic  First Owner      9.5   \n",
      "\n",
      "      engine  max_power  seats  price_per_kg  \n",
      "4961  1373.0      80.90    7.0         23903  \n",
      "283   2143.0     170.00    5.0        256983  \n",
      "2783  1086.0      68.05    5.0         19531  \n",
      "133   3604.0     280.00    5.0        431578  \n"
     ]
    }
   ],
   "execution_count": 46
  },
  {
   "metadata": {},
   "cell_type": "markdown",
   "source": "29. Find out which brand appears most frequently in the dataset.\n",
   "id": "7008bfa49ea0a78d"
  },
  {
   "metadata": {
    "ExecuteTime": {
     "end_time": "2025-09-24T10:13:37.718Z",
     "start_time": "2025-09-24T10:13:37.691612Z"
    }
   },
   "cell_type": "code",
   "source": [
    "df.head()\n",
    "df.tail()"
   ],
   "id": "7905997953be4cf8",
   "outputs": [
    {
     "data": {
      "text/plain": [
       "      index                               name  year  selling_price  \\\n",
       "6901   8121  Maruti Wagon R VXI BS IV with ABS    12         260000   \n",
       "6902   8122         Hyundai i20 Magna 1.4 CRDi    11         475000   \n",
       "6903   8123                  Hyundai i20 Magna    12         320000   \n",
       "6904   8124              Hyundai Verna CRDi SX    18         135000   \n",
       "6905   8125             Maruti Swift Dzire ZDi    16         382000   \n",
       "\n",
       "      km_driven    fuel seller_type transmission                 owner  \\\n",
       "6901      50000  Petrol  Individual       Manual          Second Owner   \n",
       "6902      80000  Diesel  Individual       Manual          Second Owner   \n",
       "6903     110000  Petrol  Individual       Manual           First Owner   \n",
       "6904     119000  Diesel  Individual       Manual  Fourth & Above Owner   \n",
       "6905     120000  Diesel  Individual       Manual           First Owner   \n",
       "\n",
       "      mileage  engine  max_power  seats  price_per_kg  \n",
       "6901    18.90   998.0      67.10    5.0         13756  \n",
       "6902    22.54  1396.0      88.73    5.0         21073  \n",
       "6903    18.50  1197.0      82.85    5.0         17297  \n",
       "6904    16.80  1493.0     110.00    5.0          8035  \n",
       "6905    19.30  1248.0      73.90    5.0         19792  "
      ],
      "text/html": [
       "<div>\n",
       "<style scoped>\n",
       "    .dataframe tbody tr th:only-of-type {\n",
       "        vertical-align: middle;\n",
       "    }\n",
       "\n",
       "    .dataframe tbody tr th {\n",
       "        vertical-align: top;\n",
       "    }\n",
       "\n",
       "    .dataframe thead th {\n",
       "        text-align: right;\n",
       "    }\n",
       "</style>\n",
       "<table border=\"1\" class=\"dataframe\">\n",
       "  <thead>\n",
       "    <tr style=\"text-align: right;\">\n",
       "      <th></th>\n",
       "      <th>index</th>\n",
       "      <th>name</th>\n",
       "      <th>year</th>\n",
       "      <th>selling_price</th>\n",
       "      <th>km_driven</th>\n",
       "      <th>fuel</th>\n",
       "      <th>seller_type</th>\n",
       "      <th>transmission</th>\n",
       "      <th>owner</th>\n",
       "      <th>mileage</th>\n",
       "      <th>engine</th>\n",
       "      <th>max_power</th>\n",
       "      <th>seats</th>\n",
       "      <th>price_per_kg</th>\n",
       "    </tr>\n",
       "  </thead>\n",
       "  <tbody>\n",
       "    <tr>\n",
       "      <th>6901</th>\n",
       "      <td>8121</td>\n",
       "      <td>Maruti Wagon R VXI BS IV with ABS</td>\n",
       "      <td>12</td>\n",
       "      <td>260000</td>\n",
       "      <td>50000</td>\n",
       "      <td>Petrol</td>\n",
       "      <td>Individual</td>\n",
       "      <td>Manual</td>\n",
       "      <td>Second Owner</td>\n",
       "      <td>18.90</td>\n",
       "      <td>998.0</td>\n",
       "      <td>67.10</td>\n",
       "      <td>5.0</td>\n",
       "      <td>13756</td>\n",
       "    </tr>\n",
       "    <tr>\n",
       "      <th>6902</th>\n",
       "      <td>8122</td>\n",
       "      <td>Hyundai i20 Magna 1.4 CRDi</td>\n",
       "      <td>11</td>\n",
       "      <td>475000</td>\n",
       "      <td>80000</td>\n",
       "      <td>Diesel</td>\n",
       "      <td>Individual</td>\n",
       "      <td>Manual</td>\n",
       "      <td>Second Owner</td>\n",
       "      <td>22.54</td>\n",
       "      <td>1396.0</td>\n",
       "      <td>88.73</td>\n",
       "      <td>5.0</td>\n",
       "      <td>21073</td>\n",
       "    </tr>\n",
       "    <tr>\n",
       "      <th>6903</th>\n",
       "      <td>8123</td>\n",
       "      <td>Hyundai i20 Magna</td>\n",
       "      <td>12</td>\n",
       "      <td>320000</td>\n",
       "      <td>110000</td>\n",
       "      <td>Petrol</td>\n",
       "      <td>Individual</td>\n",
       "      <td>Manual</td>\n",
       "      <td>First Owner</td>\n",
       "      <td>18.50</td>\n",
       "      <td>1197.0</td>\n",
       "      <td>82.85</td>\n",
       "      <td>5.0</td>\n",
       "      <td>17297</td>\n",
       "    </tr>\n",
       "    <tr>\n",
       "      <th>6904</th>\n",
       "      <td>8124</td>\n",
       "      <td>Hyundai Verna CRDi SX</td>\n",
       "      <td>18</td>\n",
       "      <td>135000</td>\n",
       "      <td>119000</td>\n",
       "      <td>Diesel</td>\n",
       "      <td>Individual</td>\n",
       "      <td>Manual</td>\n",
       "      <td>Fourth &amp; Above Owner</td>\n",
       "      <td>16.80</td>\n",
       "      <td>1493.0</td>\n",
       "      <td>110.00</td>\n",
       "      <td>5.0</td>\n",
       "      <td>8035</td>\n",
       "    </tr>\n",
       "    <tr>\n",
       "      <th>6905</th>\n",
       "      <td>8125</td>\n",
       "      <td>Maruti Swift Dzire ZDi</td>\n",
       "      <td>16</td>\n",
       "      <td>382000</td>\n",
       "      <td>120000</td>\n",
       "      <td>Diesel</td>\n",
       "      <td>Individual</td>\n",
       "      <td>Manual</td>\n",
       "      <td>First Owner</td>\n",
       "      <td>19.30</td>\n",
       "      <td>1248.0</td>\n",
       "      <td>73.90</td>\n",
       "      <td>5.0</td>\n",
       "      <td>19792</td>\n",
       "    </tr>\n",
       "  </tbody>\n",
       "</table>\n",
       "</div>"
      ]
     },
     "execution_count": 47,
     "metadata": {},
     "output_type": "execute_result"
    }
   ],
   "execution_count": 47
  },
  {
   "metadata": {
    "ExecuteTime": {
     "end_time": "2025-09-24T10:38:48.075084Z",
     "start_time": "2025-09-24T10:38:48.041833Z"
    }
   },
   "cell_type": "code",
   "source": [
    "# check the names column to find out which string is common\n",
    "brand_counts = df['name'].value_counts()\n",
    "print(f\"specific brand is {brand_counts.index[0]} with {brand_counts.iloc[0]} vehicles\")\n",
    "# divide the strings in column \"name\" and select the first word\n",
    "first_word = df['name'].str.split().str[0]\n",
    "# find out the top most occurence and by how many\n",
    "word_count = first_word.value_counts()\n",
    "most_common_word = word_count.index[0]\n",
    "most_common_number = word_count.iloc[0]\n",
    "print(f\" The most common brand is {most_common_word} with {most_common_number} occurences\")"
   ],
   "id": "8dcf3953b18c53d6",
   "outputs": [
    {
     "name": "stdout",
     "output_type": "stream",
     "text": [
      "specific brand is Maruti Swift Dzire VDI with 118 vehicles\n",
      " The most common brand is Maruti with 2165 occurences\n"
     ]
    }
   ],
   "execution_count": 50
  },
  {
   "metadata": {},
   "cell_type": "markdown",
   "source": "30. Check the top 5 most common combinations of fuel type and transmission.\n",
   "id": "d155caf771584f46"
  },
  {
   "metadata": {
    "ExecuteTime": {
     "end_time": "2025-09-24T10:48:27.469107Z",
     "start_time": "2025-09-24T10:48:27.437821Z"
    }
   },
   "cell_type": "code",
   "source": [
    "# Group by fuel_type and transmission\n",
    "combinos = df.groupby(['fuel', 'transmission'])\n",
    "# sort in descending order\n",
    "new_combinos = combinos.size().sort_values(ascending = False)\n",
    "print(new_combinos.head(5))\n"
   ],
   "id": "ebe144cc50aaa4e2",
   "outputs": [
    {
     "name": "stdout",
     "output_type": "stream",
     "text": [
      "fuel    transmission\n",
      "Diesel  Manual          3457\n",
      "Petrol  Manual          2791\n",
      "Diesel  Automatic        284\n",
      "Petrol  Automatic        280\n",
      "CNG     Manual            56\n",
      "dtype: int64\n"
     ]
    }
   ],
   "execution_count": 52
  },
  {
   "metadata": {},
   "cell_type": "markdown",
   "source": [
    "Machine Learning (31–40)\n",
    "\n",
    "31. What are the main assumptions of Linear Regression, and how can you check them using this dataset?\n",
    " Explain the assumptions (Linearity, Homoscedasticity, Normality of residuals, No multicollinearity, Independence of errors). Then, write code to verify at least three of these assumptions using visualizations or statistics.\n"
   ],
   "id": "5d02bf6db5afa716"
  },
  {
   "metadata": {},
   "cell_type": "markdown",
   "source": [
    "Main assumptions inlude:\n",
    "1 there exists a linear relationship between the independent variable (x axis) and the dependent variable(y axis) LINEARITY\n",
    "2. the residuals(vertical distance between the actual value and predicted value) are normally distributed NORMALITY OF RESIDUALS\n",
    "3. Variance of the residual is constant across all values of the independent variable(x_axis) HOMOSCEDASTICITY\n",
    "4. there is no autocorrelation between errors INDEPENDENCE OF ERRORS\n",
    "5. there is little to no correlation between independent variables. NO MULTICOLLINEARITY"
   ],
   "id": "d7db3b54da64b6c7"
  }
 ],
 "metadata": {
  "kernelspec": {
   "display_name": "Python 3",
   "language": "python",
   "name": "python3"
  },
  "language_info": {
   "codemirror_mode": {
    "name": "ipython",
    "version": 2
   },
   "file_extension": ".py",
   "mimetype": "text/x-python",
   "name": "python",
   "nbconvert_exporter": "python",
   "pygments_lexer": "ipython2",
   "version": "2.7.6"
  }
 },
 "nbformat": 4,
 "nbformat_minor": 5
}
