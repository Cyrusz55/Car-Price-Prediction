{
 "cells": [
  {
   "metadata": {},
   "cell_type": "markdown",
   "source": "First step is uploading my csv file\n",
   "id": "8a77807f92f26ee"
  },
  {
   "metadata": {},
   "cell_type": "markdown",
   "source": [
    "1. Load the dataset into a Pandas DataFrame and display the first 5 rows.\n",
    " Explain what each column means in your own words."
   ],
   "id": "f94b79e3b7f5d685"
  },
  {
   "metadata": {
    "ExecuteTime": {
     "end_time": "2025-09-13T07:35:56.601624Z",
     "start_time": "2025-09-13T07:35:54.401706Z"
    }
   },
   "cell_type": "code",
   "source": "import pandas as pd",
   "id": "533d78e5a6caebc1",
   "outputs": [],
   "execution_count": 1
  },
  {
   "metadata": {
    "ExecuteTime": {
     "end_time": "2025-09-13T07:35:57.106675Z",
     "start_time": "2025-09-13T07:35:56.792696Z"
    }
   },
   "cell_type": "code",
   "source": [
    "df= pd.read_csv(r\"car dataset.csv\")\n",
    "df.head()"
   ],
   "id": "2a087b54a0afe613",
   "outputs": [
    {
     "data": {
      "text/plain": [
       "                           name  year  selling_price  km_driven    fuel  \\\n",
       "0        Maruti Swift Dzire VDI  2014         450000     145500  Diesel   \n",
       "1  Skoda Rapid 1.5 TDI Ambition  2014         370000     120000  Diesel   \n",
       "2      Honda City 2017-2020 EXi  2006         158000     140000  Petrol   \n",
       "3     Hyundai i20 Sportz Diesel  2010         225000     127000  Diesel   \n",
       "4        Maruti Swift VXI BSIII  2007         130000     120000  Petrol   \n",
       "\n",
       "  seller_type transmission         owner  mileage(km/ltr/kg)  engine  \\\n",
       "0  Individual       Manual   First Owner               23.40  1248.0   \n",
       "1  Individual       Manual  Second Owner               21.14  1498.0   \n",
       "2  Individual       Manual   Third Owner               17.70  1497.0   \n",
       "3  Individual       Manual   First Owner               23.00  1396.0   \n",
       "4  Individual       Manual   First Owner               16.10  1298.0   \n",
       "\n",
       "  max_power  seats  \n",
       "0        74    5.0  \n",
       "1    103.52    5.0  \n",
       "2        78    5.0  \n",
       "3        90    5.0  \n",
       "4      88.2    5.0  "
      ],
      "text/html": [
       "<div>\n",
       "<style scoped>\n",
       "    .dataframe tbody tr th:only-of-type {\n",
       "        vertical-align: middle;\n",
       "    }\n",
       "\n",
       "    .dataframe tbody tr th {\n",
       "        vertical-align: top;\n",
       "    }\n",
       "\n",
       "    .dataframe thead th {\n",
       "        text-align: right;\n",
       "    }\n",
       "</style>\n",
       "<table border=\"1\" class=\"dataframe\">\n",
       "  <thead>\n",
       "    <tr style=\"text-align: right;\">\n",
       "      <th></th>\n",
       "      <th>name</th>\n",
       "      <th>year</th>\n",
       "      <th>selling_price</th>\n",
       "      <th>km_driven</th>\n",
       "      <th>fuel</th>\n",
       "      <th>seller_type</th>\n",
       "      <th>transmission</th>\n",
       "      <th>owner</th>\n",
       "      <th>mileage(km/ltr/kg)</th>\n",
       "      <th>engine</th>\n",
       "      <th>max_power</th>\n",
       "      <th>seats</th>\n",
       "    </tr>\n",
       "  </thead>\n",
       "  <tbody>\n",
       "    <tr>\n",
       "      <th>0</th>\n",
       "      <td>Maruti Swift Dzire VDI</td>\n",
       "      <td>2014</td>\n",
       "      <td>450000</td>\n",
       "      <td>145500</td>\n",
       "      <td>Diesel</td>\n",
       "      <td>Individual</td>\n",
       "      <td>Manual</td>\n",
       "      <td>First Owner</td>\n",
       "      <td>23.40</td>\n",
       "      <td>1248.0</td>\n",
       "      <td>74</td>\n",
       "      <td>5.0</td>\n",
       "    </tr>\n",
       "    <tr>\n",
       "      <th>1</th>\n",
       "      <td>Skoda Rapid 1.5 TDI Ambition</td>\n",
       "      <td>2014</td>\n",
       "      <td>370000</td>\n",
       "      <td>120000</td>\n",
       "      <td>Diesel</td>\n",
       "      <td>Individual</td>\n",
       "      <td>Manual</td>\n",
       "      <td>Second Owner</td>\n",
       "      <td>21.14</td>\n",
       "      <td>1498.0</td>\n",
       "      <td>103.52</td>\n",
       "      <td>5.0</td>\n",
       "    </tr>\n",
       "    <tr>\n",
       "      <th>2</th>\n",
       "      <td>Honda City 2017-2020 EXi</td>\n",
       "      <td>2006</td>\n",
       "      <td>158000</td>\n",
       "      <td>140000</td>\n",
       "      <td>Petrol</td>\n",
       "      <td>Individual</td>\n",
       "      <td>Manual</td>\n",
       "      <td>Third Owner</td>\n",
       "      <td>17.70</td>\n",
       "      <td>1497.0</td>\n",
       "      <td>78</td>\n",
       "      <td>5.0</td>\n",
       "    </tr>\n",
       "    <tr>\n",
       "      <th>3</th>\n",
       "      <td>Hyundai i20 Sportz Diesel</td>\n",
       "      <td>2010</td>\n",
       "      <td>225000</td>\n",
       "      <td>127000</td>\n",
       "      <td>Diesel</td>\n",
       "      <td>Individual</td>\n",
       "      <td>Manual</td>\n",
       "      <td>First Owner</td>\n",
       "      <td>23.00</td>\n",
       "      <td>1396.0</td>\n",
       "      <td>90</td>\n",
       "      <td>5.0</td>\n",
       "    </tr>\n",
       "    <tr>\n",
       "      <th>4</th>\n",
       "      <td>Maruti Swift VXI BSIII</td>\n",
       "      <td>2007</td>\n",
       "      <td>130000</td>\n",
       "      <td>120000</td>\n",
       "      <td>Petrol</td>\n",
       "      <td>Individual</td>\n",
       "      <td>Manual</td>\n",
       "      <td>First Owner</td>\n",
       "      <td>16.10</td>\n",
       "      <td>1298.0</td>\n",
       "      <td>88.2</td>\n",
       "      <td>5.0</td>\n",
       "    </tr>\n",
       "  </tbody>\n",
       "</table>\n",
       "</div>"
      ]
     },
     "execution_count": 2,
     "metadata": {},
     "output_type": "execute_result"
    }
   ],
   "execution_count": 2
  },
  {
   "metadata": {},
   "cell_type": "markdown",
   "source": "1st column reffers to the specific name of the Car, the second name reffers to the year that the car was manufactured, the third column reffers to the price that the car will be sold for, the forth column reffers to how many kilometers the specific vehicle has accumulated since it was manufactured, the fifth column reffers to the type of fuel consumed ny the specific vehicle, the sixth column reffers to what entity is selling the vehicle, be it an individual or a company, the seventh column represents whether the vehicle is automatic or manual transmission, the eigth column shows how many owners the vehicle has gone through, the ninth column represents how many mileage the vehicle has accumulated in kilometer per litre per kg, the 10th column represents the engine power, the 11th column represents the maximum power of the engine and finally the 12th column represents the number of seats in the specific vehicle.",
   "id": "108a4833da86b1f0"
  },
  {
   "metadata": {},
   "cell_type": "markdown",
   "source": [
    "2. Check for missing values in the dataset.\n",
    " Show both the number of missing values per column and the percentage.\n"
   ],
   "id": "f866a7b7cc87e0b4"
  },
  {
   "metadata": {
    "ExecuteTime": {
     "end_time": "2025-09-13T07:35:59.345528Z",
     "start_time": "2025-09-13T07:35:59.166962Z"
    }
   },
   "cell_type": "code",
   "source": "df.info()",
   "id": "6b59e693766a622e",
   "outputs": [
    {
     "name": "stdout",
     "output_type": "stream",
     "text": [
      "<class 'pandas.core.frame.DataFrame'>\n",
      "RangeIndex: 8128 entries, 0 to 8127\n",
      "Data columns (total 12 columns):\n",
      " #   Column              Non-Null Count  Dtype  \n",
      "---  ------              --------------  -----  \n",
      " 0   name                8128 non-null   object \n",
      " 1   year                8128 non-null   int64  \n",
      " 2   selling_price       8128 non-null   int64  \n",
      " 3   km_driven           8128 non-null   int64  \n",
      " 4   fuel                8128 non-null   object \n",
      " 5   seller_type         8128 non-null   object \n",
      " 6   transmission        8128 non-null   object \n",
      " 7   owner               8128 non-null   object \n",
      " 8   mileage(km/ltr/kg)  7907 non-null   float64\n",
      " 9   engine              7907 non-null   float64\n",
      " 10  max_power           7913 non-null   object \n",
      " 11  seats               7907 non-null   float64\n",
      "dtypes: float64(3), int64(3), object(6)\n",
      "memory usage: 762.1+ KB\n"
     ]
    }
   ],
   "execution_count": 3
  },
  {
   "metadata": {
    "ExecuteTime": {
     "end_time": "2025-09-13T07:35:59.714402Z",
     "start_time": "2025-09-13T07:35:59.645175Z"
    }
   },
   "cell_type": "code",
   "source": [
    "missing_count = df.isnull().sum()\n",
    "missing_percentage = (df.isnull().sum()/len(df)) * 100\n",
    "\n",
    "missing_summary = pd.DataFrame({\n",
    "    'Missing Count': missing_count,\n",
    "    'Missing Percentage': missing_percentage\n",
    "})\n",
    "print(missing_summary)"
   ],
   "id": "8cb065b6ec7d0a5e",
   "outputs": [
    {
     "name": "stdout",
     "output_type": "stream",
     "text": [
      "                    Missing Count  Missing Percentage\n",
      "name                            0            0.000000\n",
      "year                            0            0.000000\n",
      "selling_price                   0            0.000000\n",
      "km_driven                       0            0.000000\n",
      "fuel                            0            0.000000\n",
      "seller_type                     0            0.000000\n",
      "transmission                    0            0.000000\n",
      "owner                           0            0.000000\n",
      "mileage(km/ltr/kg)            221            2.718996\n",
      "engine                        221            2.718996\n",
      "max_power                     215            2.645177\n",
      "seats                         221            2.718996\n"
     ]
    }
   ],
   "execution_count": 4
  },
  {
   "metadata": {},
   "cell_type": "markdown",
   "source": [
    "3. Drop any rows where the target variable (selling price) is missing.\n",
    " Explain why we can’t train a model with missing target values.\n"
   ],
   "id": "1f0d3b6883395f3c"
  },
  {
   "metadata": {
    "ExecuteTime": {
     "end_time": "2025-09-13T07:36:00.312833Z",
     "start_time": "2025-09-13T07:36:00.303628Z"
    }
   },
   "cell_type": "code",
   "source": [
    "#There are no rows where the target variable which is the selling price in this case is missing.\n",
    "# the code to drop empty rows is\n",
    "# df.dropna() drops every row with an empty value"
   ],
   "id": "68da4cdd3338b853",
   "outputs": [],
   "execution_count": 5
  },
  {
   "metadata": {},
   "cell_type": "markdown",
   "source": [
    "models cannot be trained with missing target values, since the models learn by establishing a clear relationship between the feature values and target values, with the target value missing the model will lack the necessary true value to compare its predicted value to inorder to find the error hence know where to optimize.\n",
    "with the feature value missing the model cannot calculate the error. hence cannot optimize to correct the error."
   ],
   "id": "ea936aa603c78439"
  },
  {
   "metadata": {},
   "cell_type": "markdown",
   "source": [
    "4. Fill missing values in the “mileage” column with the column’s mean.\n",
    " Explain why filling missing values can sometimes be better than dropping rows.\n"
   ],
   "id": "ac482a95cdb2a4e3"
  },
  {
   "metadata": {
    "ExecuteTime": {
     "end_time": "2025-09-13T07:36:01.029653Z",
     "start_time": "2025-09-13T07:36:01.004002Z"
    }
   },
   "cell_type": "code",
   "source": [
    "mean_mileage = df['mileage(km/ltr/kg)'].mean()\n",
    "df['mileage(km/ltr/kg)'] = df['mileage(km/ltr/kg)'].fillna(mean_mileage)"
   ],
   "id": "54945c667020d78c",
   "outputs": [],
   "execution_count": 6
  },
  {
   "metadata": {
    "ExecuteTime": {
     "end_time": "2025-09-13T07:36:01.383393Z",
     "start_time": "2025-09-13T07:36:01.329880Z"
    }
   },
   "cell_type": "code",
   "source": "df.info()",
   "id": "d217cdcabfe32d81",
   "outputs": [
    {
     "name": "stdout",
     "output_type": "stream",
     "text": [
      "<class 'pandas.core.frame.DataFrame'>\n",
      "RangeIndex: 8128 entries, 0 to 8127\n",
      "Data columns (total 12 columns):\n",
      " #   Column              Non-Null Count  Dtype  \n",
      "---  ------              --------------  -----  \n",
      " 0   name                8128 non-null   object \n",
      " 1   year                8128 non-null   int64  \n",
      " 2   selling_price       8128 non-null   int64  \n",
      " 3   km_driven           8128 non-null   int64  \n",
      " 4   fuel                8128 non-null   object \n",
      " 5   seller_type         8128 non-null   object \n",
      " 6   transmission        8128 non-null   object \n",
      " 7   owner               8128 non-null   object \n",
      " 8   mileage(km/ltr/kg)  8128 non-null   float64\n",
      " 9   engine              7907 non-null   float64\n",
      " 10  max_power           7913 non-null   object \n",
      " 11  seats               7907 non-null   float64\n",
      "dtypes: float64(3), int64(3), object(6)\n",
      "memory usage: 762.1+ KB\n"
     ]
    }
   ],
   "execution_count": 7
  },
  {
   "metadata": {},
   "cell_type": "markdown",
   "source": [
    "replacing missing values is often better than dropping rows due to the fact that everytime you drop a row, the statistical power drops hence replacing the missing values maintains the statistical power.\n",
    "also dropping entire rows will contribute to creation of bias due to omission of certain observations that could have been very crucial"
   ],
   "id": "f3018b3c016f7cf4"
  },
  {
   "metadata": {},
   "cell_type": "markdown",
   "source": [
    "5. Remove duplicate rows from the dataset.\n",
    " Explain how duplicate rows can affect model training.\n"
   ],
   "id": "15f31f6780f02724"
  },
  {
   "metadata": {
    "ExecuteTime": {
     "end_time": "2025-09-13T07:36:01.991515Z",
     "start_time": "2025-09-13T07:36:01.777861Z"
    }
   },
   "cell_type": "code",
   "source": [
    "df = df.drop_duplicates()\n",
    "df.info()"
   ],
   "id": "c45846c642f587c2",
   "outputs": [
    {
     "name": "stdout",
     "output_type": "stream",
     "text": [
      "<class 'pandas.core.frame.DataFrame'>\n",
      "Index: 6926 entries, 0 to 8125\n",
      "Data columns (total 12 columns):\n",
      " #   Column              Non-Null Count  Dtype  \n",
      "---  ------              --------------  -----  \n",
      " 0   name                6926 non-null   object \n",
      " 1   year                6926 non-null   int64  \n",
      " 2   selling_price       6926 non-null   int64  \n",
      " 3   km_driven           6926 non-null   int64  \n",
      " 4   fuel                6926 non-null   object \n",
      " 5   seller_type         6926 non-null   object \n",
      " 6   transmission        6926 non-null   object \n",
      " 7   owner               6926 non-null   object \n",
      " 8   mileage(km/ltr/kg)  6926 non-null   float64\n",
      " 9   engine              6718 non-null   float64\n",
      " 10  max_power           6721 non-null   object \n",
      " 11  seats               6718 non-null   float64\n",
      "dtypes: float64(3), int64(3), object(6)\n",
      "memory usage: 703.4+ KB\n"
     ]
    }
   ],
   "execution_count": 8
  },
  {
   "metadata": {},
   "cell_type": "markdown",
   "source": [
    "Duplicate rows lead to model overfitting,\n",
    "also lead to false confidence when testing the data for accuracy."
   ],
   "id": "d1a18940e603f315"
  },
  {
   "metadata": {},
   "cell_type": "markdown",
   "source": [
    "6. Convert the “year” column into the car’s age.\n",
    " Example: If the car’s year is 2015 and the current year is 2025, the age is 10 years.\n"
   ],
   "id": "830a3293df1f9c55"
  },
  {
   "metadata": {
    "ExecuteTime": {
     "end_time": "2025-09-13T07:36:02.165642Z",
     "start_time": "2025-09-13T07:36:02.098844Z"
    }
   },
   "cell_type": "code",
   "source": [
    "from datetime import datetime\n",
    "current_year = datetime.now().year\n",
    "\n",
    "df['year'] = current_year - df['year']\n",
    "df.head()"
   ],
   "id": "d0ab794a43f12b2c",
   "outputs": [
    {
     "data": {
      "text/plain": [
       "                           name  year  selling_price  km_driven    fuel  \\\n",
       "0        Maruti Swift Dzire VDI    11         450000     145500  Diesel   \n",
       "1  Skoda Rapid 1.5 TDI Ambition    11         370000     120000  Diesel   \n",
       "2      Honda City 2017-2020 EXi    19         158000     140000  Petrol   \n",
       "3     Hyundai i20 Sportz Diesel    15         225000     127000  Diesel   \n",
       "4        Maruti Swift VXI BSIII    18         130000     120000  Petrol   \n",
       "\n",
       "  seller_type transmission         owner  mileage(km/ltr/kg)  engine  \\\n",
       "0  Individual       Manual   First Owner               23.40  1248.0   \n",
       "1  Individual       Manual  Second Owner               21.14  1498.0   \n",
       "2  Individual       Manual   Third Owner               17.70  1497.0   \n",
       "3  Individual       Manual   First Owner               23.00  1396.0   \n",
       "4  Individual       Manual   First Owner               16.10  1298.0   \n",
       "\n",
       "  max_power  seats  \n",
       "0        74    5.0  \n",
       "1    103.52    5.0  \n",
       "2        78    5.0  \n",
       "3        90    5.0  \n",
       "4      88.2    5.0  "
      ],
      "text/html": [
       "<div>\n",
       "<style scoped>\n",
       "    .dataframe tbody tr th:only-of-type {\n",
       "        vertical-align: middle;\n",
       "    }\n",
       "\n",
       "    .dataframe tbody tr th {\n",
       "        vertical-align: top;\n",
       "    }\n",
       "\n",
       "    .dataframe thead th {\n",
       "        text-align: right;\n",
       "    }\n",
       "</style>\n",
       "<table border=\"1\" class=\"dataframe\">\n",
       "  <thead>\n",
       "    <tr style=\"text-align: right;\">\n",
       "      <th></th>\n",
       "      <th>name</th>\n",
       "      <th>year</th>\n",
       "      <th>selling_price</th>\n",
       "      <th>km_driven</th>\n",
       "      <th>fuel</th>\n",
       "      <th>seller_type</th>\n",
       "      <th>transmission</th>\n",
       "      <th>owner</th>\n",
       "      <th>mileage(km/ltr/kg)</th>\n",
       "      <th>engine</th>\n",
       "      <th>max_power</th>\n",
       "      <th>seats</th>\n",
       "    </tr>\n",
       "  </thead>\n",
       "  <tbody>\n",
       "    <tr>\n",
       "      <th>0</th>\n",
       "      <td>Maruti Swift Dzire VDI</td>\n",
       "      <td>11</td>\n",
       "      <td>450000</td>\n",
       "      <td>145500</td>\n",
       "      <td>Diesel</td>\n",
       "      <td>Individual</td>\n",
       "      <td>Manual</td>\n",
       "      <td>First Owner</td>\n",
       "      <td>23.40</td>\n",
       "      <td>1248.0</td>\n",
       "      <td>74</td>\n",
       "      <td>5.0</td>\n",
       "    </tr>\n",
       "    <tr>\n",
       "      <th>1</th>\n",
       "      <td>Skoda Rapid 1.5 TDI Ambition</td>\n",
       "      <td>11</td>\n",
       "      <td>370000</td>\n",
       "      <td>120000</td>\n",
       "      <td>Diesel</td>\n",
       "      <td>Individual</td>\n",
       "      <td>Manual</td>\n",
       "      <td>Second Owner</td>\n",
       "      <td>21.14</td>\n",
       "      <td>1498.0</td>\n",
       "      <td>103.52</td>\n",
       "      <td>5.0</td>\n",
       "    </tr>\n",
       "    <tr>\n",
       "      <th>2</th>\n",
       "      <td>Honda City 2017-2020 EXi</td>\n",
       "      <td>19</td>\n",
       "      <td>158000</td>\n",
       "      <td>140000</td>\n",
       "      <td>Petrol</td>\n",
       "      <td>Individual</td>\n",
       "      <td>Manual</td>\n",
       "      <td>Third Owner</td>\n",
       "      <td>17.70</td>\n",
       "      <td>1497.0</td>\n",
       "      <td>78</td>\n",
       "      <td>5.0</td>\n",
       "    </tr>\n",
       "    <tr>\n",
       "      <th>3</th>\n",
       "      <td>Hyundai i20 Sportz Diesel</td>\n",
       "      <td>15</td>\n",
       "      <td>225000</td>\n",
       "      <td>127000</td>\n",
       "      <td>Diesel</td>\n",
       "      <td>Individual</td>\n",
       "      <td>Manual</td>\n",
       "      <td>First Owner</td>\n",
       "      <td>23.00</td>\n",
       "      <td>1396.0</td>\n",
       "      <td>90</td>\n",
       "      <td>5.0</td>\n",
       "    </tr>\n",
       "    <tr>\n",
       "      <th>4</th>\n",
       "      <td>Maruti Swift VXI BSIII</td>\n",
       "      <td>18</td>\n",
       "      <td>130000</td>\n",
       "      <td>120000</td>\n",
       "      <td>Petrol</td>\n",
       "      <td>Individual</td>\n",
       "      <td>Manual</td>\n",
       "      <td>First Owner</td>\n",
       "      <td>16.10</td>\n",
       "      <td>1298.0</td>\n",
       "      <td>88.2</td>\n",
       "      <td>5.0</td>\n",
       "    </tr>\n",
       "  </tbody>\n",
       "</table>\n",
       "</div>"
      ]
     },
     "execution_count": 9,
     "metadata": {},
     "output_type": "execute_result"
    }
   ],
   "execution_count": 9
  },
  {
   "metadata": {},
   "cell_type": "markdown",
   "source": [
    "7. Check the unique values in the “fuel type” column.\n",
    " Explain why knowing all possible values in a categorical column is important before encoding."
   ],
   "id": "e02c612ce26e82ed"
  },
  {
   "metadata": {
    "ExecuteTime": {
     "end_time": "2025-09-13T07:36:02.494854Z",
     "start_time": "2025-09-13T07:36:02.463539Z"
    }
   },
   "cell_type": "code",
   "source": "df.nunique(axis = 0, dropna = True)",
   "id": "2baee101f587a8bb",
   "outputs": [
    {
     "data": {
      "text/plain": [
       "name                  2058\n",
       "year                    29\n",
       "selling_price          677\n",
       "km_driven              921\n",
       "fuel                     4\n",
       "seller_type              3\n",
       "transmission             2\n",
       "owner                    5\n",
       "mileage(km/ltr/kg)     382\n",
       "engine                 121\n",
       "max_power              320\n",
       "seats                    9\n",
       "dtype: int64"
      ]
     },
     "execution_count": 10,
     "metadata": {},
     "output_type": "execute_result"
    }
   ],
   "execution_count": 10
  },
  {
   "metadata": {},
   "cell_type": "markdown",
   "source": "Knowing all possible values aids in model consistency and prediction reliability. Also, it helps in preventing data leakage where the info from testing set influences the training process",
   "id": "a56b6c6f381237c0"
  },
  {
   "metadata": {},
   "cell_type": "markdown",
   "source": [
    "8. Replace inconsistent values in the “transmission” column.\n",
    " For example, replace “manual” and “Manual” with “Manual” (consistent casing).\n"
   ],
   "id": "f550b9e988446797"
  },
  {
   "metadata": {
    "ExecuteTime": {
     "end_time": "2025-09-13T07:36:02.659164Z",
     "start_time": "2025-09-13T07:36:02.642928Z"
    }
   },
   "cell_type": "code",
   "source": [
    "unique_value = df['transmission'].unique()\n",
    "print(unique_value)"
   ],
   "id": "842d76c57892492d",
   "outputs": [
    {
     "name": "stdout",
     "output_type": "stream",
     "text": [
      "['Manual' 'Automatic']\n"
     ]
    }
   ],
   "execution_count": 11
  },
  {
   "metadata": {
    "ExecuteTime": {
     "end_time": "2025-09-13T07:36:03.070819Z",
     "start_time": "2025-09-13T07:36:03.033766Z"
    }
   },
   "cell_type": "code",
   "source": [
    "# replacing values in some certain column\n",
    "df['transmission'] = df['transmission'].replace('manual', 'Manual')\n",
    "df['transmission'] = df['transmission'].replace('automatic', 'Automatic')"
   ],
   "id": "c76dd877fa1f3e5",
   "outputs": [],
   "execution_count": 12
  },
  {
   "metadata": {},
   "cell_type": "markdown",
   "source": [
    "Check if there are any outliers in the “selling price” column using a boxplot.\n",
    " Explain why outliers can affect model accuracy.\n"
   ],
   "id": "2b5688e9334c8ccd"
  },
  {
   "metadata": {
    "ExecuteTime": {
     "end_time": "2025-09-13T07:36:05.527875Z",
     "start_time": "2025-09-13T07:36:03.100796Z"
    }
   },
   "cell_type": "code",
   "source": [
    "import matplotlib.pyplot as plt\n",
    "plt.boxplot(df['selling_price'])\n",
    "plt.show()"
   ],
   "id": "bcdbcfac3b10674",
   "outputs": [
    {
     "data": {
      "text/plain": [
       "<Figure size 640x480 with 1 Axes>"
      ],
      "image/png": "[encoded data removed]"
     },
     "metadata": {},
     "output_type": "display_data"
    }
   ],
   "execution_count": 13
  },
  {
   "metadata": {},
   "cell_type": "markdown",
   "source": "Algorithms like logic regression and linear regression try to reduce the average error by fitting to the data. Outliers can drastically shift the fitted line/ boundary hence reducing model accuracy significantly.",
   "id": "563e33e24ae7adcc"
  },
  {
   "metadata": {},
   "cell_type": "markdown",
   "source": [
    "10. Remove cars that are priced below 10,000 or above 5,000,000 (possible outliers).\n",
    " Explain why setting realistic price limits can help improve model performance.\n"
   ],
   "id": "4685188e85ed6078"
  },
  {
   "metadata": {
    "ExecuteTime": {
     "end_time": "2025-09-13T07:36:05.735559Z",
     "start_time": "2025-09-13T07:36:05.630928Z"
    }
   },
   "cell_type": "code",
   "source": [
    "df = df.loc[(df['selling_price'] >= 20000) & (df['selling_price'] <= 5000000)]\n",
    "df.head()"
   ],
   "id": "6216e8dbe1a47d0c",
   "outputs": [
    {
     "data": {
      "text/plain": [
       "                           name  year  selling_price  km_driven    fuel  \\\n",
       "0        Maruti Swift Dzire VDI    11         450000     145500  Diesel   \n",
       "1  Skoda Rapid 1.5 TDI Ambition    11         370000     120000  Diesel   \n",
       "2      Honda City 2017-2020 EXi    19         158000     140000  Petrol   \n",
       "3     Hyundai i20 Sportz Diesel    15         225000     127000  Diesel   \n",
       "4        Maruti Swift VXI BSIII    18         130000     120000  Petrol   \n",
       "\n",
       "  seller_type transmission         owner  mileage(km/ltr/kg)  engine  \\\n",
       "0  Individual       Manual   First Owner               23.40  1248.0   \n",
       "1  Individual       Manual  Second Owner               21.14  1498.0   \n",
       "2  Individual       Manual   Third Owner               17.70  1497.0   \n",
       "3  Individual       Manual   First Owner               23.00  1396.0   \n",
       "4  Individual       Manual   First Owner               16.10  1298.0   \n",
       "\n",
       "  max_power  seats  \n",
       "0        74    5.0  \n",
       "1    103.52    5.0  \n",
       "2        78    5.0  \n",
       "3        90    5.0  \n",
       "4      88.2    5.0  "
      ],
      "text/html": [
       "<div>\n",
       "<style scoped>\n",
       "    .dataframe tbody tr th:only-of-type {\n",
       "        vertical-align: middle;\n",
       "    }\n",
       "\n",
       "    .dataframe tbody tr th {\n",
       "        vertical-align: top;\n",
       "    }\n",
       "\n",
       "    .dataframe thead th {\n",
       "        text-align: right;\n",
       "    }\n",
       "</style>\n",
       "<table border=\"1\" class=\"dataframe\">\n",
       "  <thead>\n",
       "    <tr style=\"text-align: right;\">\n",
       "      <th></th>\n",
       "      <th>name</th>\n",
       "      <th>year</th>\n",
       "      <th>selling_price</th>\n",
       "      <th>km_driven</th>\n",
       "      <th>fuel</th>\n",
       "      <th>seller_type</th>\n",
       "      <th>transmission</th>\n",
       "      <th>owner</th>\n",
       "      <th>mileage(km/ltr/kg)</th>\n",
       "      <th>engine</th>\n",
       "      <th>max_power</th>\n",
       "      <th>seats</th>\n",
       "    </tr>\n",
       "  </thead>\n",
       "  <tbody>\n",
       "    <tr>\n",
       "      <th>0</th>\n",
       "      <td>Maruti Swift Dzire VDI</td>\n",
       "      <td>11</td>\n",
       "      <td>450000</td>\n",
       "      <td>145500</td>\n",
       "      <td>Diesel</td>\n",
       "      <td>Individual</td>\n",
       "      <td>Manual</td>\n",
       "      <td>First Owner</td>\n",
       "      <td>23.40</td>\n",
       "      <td>1248.0</td>\n",
       "      <td>74</td>\n",
       "      <td>5.0</td>\n",
       "    </tr>\n",
       "    <tr>\n",
       "      <th>1</th>\n",
       "      <td>Skoda Rapid 1.5 TDI Ambition</td>\n",
       "      <td>11</td>\n",
       "      <td>370000</td>\n",
       "      <td>120000</td>\n",
       "      <td>Diesel</td>\n",
       "      <td>Individual</td>\n",
       "      <td>Manual</td>\n",
       "      <td>Second Owner</td>\n",
       "      <td>21.14</td>\n",
       "      <td>1498.0</td>\n",
       "      <td>103.52</td>\n",
       "      <td>5.0</td>\n",
       "    </tr>\n",
       "    <tr>\n",
       "      <th>2</th>\n",
       "      <td>Honda City 2017-2020 EXi</td>\n",
       "      <td>19</td>\n",
       "      <td>158000</td>\n",
       "      <td>140000</td>\n",
       "      <td>Petrol</td>\n",
       "      <td>Individual</td>\n",
       "      <td>Manual</td>\n",
       "      <td>Third Owner</td>\n",
       "      <td>17.70</td>\n",
       "      <td>1497.0</td>\n",
       "      <td>78</td>\n",
       "      <td>5.0</td>\n",
       "    </tr>\n",
       "    <tr>\n",
       "      <th>3</th>\n",
       "      <td>Hyundai i20 Sportz Diesel</td>\n",
       "      <td>15</td>\n",
       "      <td>225000</td>\n",
       "      <td>127000</td>\n",
       "      <td>Diesel</td>\n",
       "      <td>Individual</td>\n",
       "      <td>Manual</td>\n",
       "      <td>First Owner</td>\n",
       "      <td>23.00</td>\n",
       "      <td>1396.0</td>\n",
       "      <td>90</td>\n",
       "      <td>5.0</td>\n",
       "    </tr>\n",
       "    <tr>\n",
       "      <th>4</th>\n",
       "      <td>Maruti Swift VXI BSIII</td>\n",
       "      <td>18</td>\n",
       "      <td>130000</td>\n",
       "      <td>120000</td>\n",
       "      <td>Petrol</td>\n",
       "      <td>Individual</td>\n",
       "      <td>Manual</td>\n",
       "      <td>First Owner</td>\n",
       "      <td>16.10</td>\n",
       "      <td>1298.0</td>\n",
       "      <td>88.2</td>\n",
       "      <td>5.0</td>\n",
       "    </tr>\n",
       "  </tbody>\n",
       "</table>\n",
       "</div>"
      ]
     },
     "execution_count": 14,
     "metadata": {},
     "output_type": "execute_result"
    }
   ],
   "execution_count": 14
  },
  {
   "metadata": {
    "ExecuteTime": {
     "end_time": "2025-09-13T07:36:06.255073Z",
     "start_time": "2025-09-13T07:36:06.224706Z"
    }
   },
   "cell_type": "code",
   "source": "df.info()",
   "id": "14fe2a9f446e08a7",
   "outputs": [
    {
     "name": "stdout",
     "output_type": "stream",
     "text": [
      "<class 'pandas.core.frame.DataFrame'>\n",
      "Index: 6906 entries, 0 to 8125\n",
      "Data columns (total 12 columns):\n",
      " #   Column              Non-Null Count  Dtype  \n",
      "---  ------              --------------  -----  \n",
      " 0   name                6906 non-null   object \n",
      " 1   year                6906 non-null   int64  \n",
      " 2   selling_price       6906 non-null   int64  \n",
      " 3   km_driven           6906 non-null   int64  \n",
      " 4   fuel                6906 non-null   object \n",
      " 5   seller_type         6906 non-null   object \n",
      " 6   transmission        6906 non-null   object \n",
      " 7   owner               6906 non-null   object \n",
      " 8   mileage(km/ltr/kg)  6906 non-null   float64\n",
      " 9   engine              6698 non-null   float64\n",
      " 10  max_power           6701 non-null   object \n",
      " 11  seats               6698 non-null   float64\n",
      "dtypes: float64(3), int64(3), object(6)\n",
      "memory usage: 701.4+ KB\n"
     ]
    }
   ],
   "execution_count": 15
  },
  {
   "metadata": {},
   "cell_type": "markdown",
   "source": [
    "reason for setting realistic price limits\n",
    "distribution normalization - outliers significantly skew data hence hard for the mode to learn. Removing them ensures the data is well normalized hence the learning algorithms learn better.\n",
    "Variance reduction - outliers increase variance making it harder for model to establish consistent pattern."
   ],
   "id": "a4512a0f351b0613"
  },
  {
   "metadata": {},
   "cell_type": "markdown",
   "source": "11. Standardize the column names so they are all lowercase and contain underscores instead of spaces.\n",
   "id": "43166bc5eee85d22"
  },
  {
   "metadata": {
    "ExecuteTime": {
     "end_time": "2025-09-13T07:48:48.589655Z",
     "start_time": "2025-09-13T07:48:48.548927Z"
    }
   },
   "cell_type": "code",
   "source": [
    "df = df.rename(columns= {'name': 'name', 'year': 'year', 'selling_price' : 'selling_price', 'km_driven' : 'km_driven', 'fuel' : 'fuel', 'seller_type' : 'seller_type', 'transmission' : 'transmission', 'owner' : 'owner', 'mileage(km/ltr/kg)' : 'mileage', 'engine' : 'engine', 'max_power' : 'max_power', 'seats' : 'seats'})\n",
    "df.head()"
   ],
   "id": "16d7983e2ac520ee",
   "outputs": [
    {
     "data": {
      "text/plain": [
       "                           name  year  selling_price  km_driven    fuel  \\\n",
       "0        Maruti Swift Dzire VDI    11         450000     145500  Diesel   \n",
       "1  Skoda Rapid 1.5 TDI Ambition    11         370000     120000  Diesel   \n",
       "2      Honda City 2017-2020 EXi    19         158000     140000  Petrol   \n",
       "3     Hyundai i20 Sportz Diesel    15         225000     127000  Diesel   \n",
       "4        Maruti Swift VXI BSIII    18         130000     120000  Petrol   \n",
       "\n",
       "  seller_type transmission         owner  mileage  engine max_power  seats  \n",
       "0  Individual       Manual   First Owner    23.40  1248.0        74    5.0  \n",
       "1  Individual       Manual  Second Owner    21.14  1498.0    103.52    5.0  \n",
       "2  Individual       Manual   Third Owner    17.70  1497.0        78    5.0  \n",
       "3  Individual       Manual   First Owner    23.00  1396.0        90    5.0  \n",
       "4  Individual       Manual   First Owner    16.10  1298.0      88.2    5.0  "
      ],
      "text/html": [
       "<div>\n",
       "<style scoped>\n",
       "    .dataframe tbody tr th:only-of-type {\n",
       "        vertical-align: middle;\n",
       "    }\n",
       "\n",
       "    .dataframe tbody tr th {\n",
       "        vertical-align: top;\n",
       "    }\n",
       "\n",
       "    .dataframe thead th {\n",
       "        text-align: right;\n",
       "    }\n",
       "</style>\n",
       "<table border=\"1\" class=\"dataframe\">\n",
       "  <thead>\n",
       "    <tr style=\"text-align: right;\">\n",
       "      <th></th>\n",
       "      <th>name</th>\n",
       "      <th>year</th>\n",
       "      <th>selling_price</th>\n",
       "      <th>km_driven</th>\n",
       "      <th>fuel</th>\n",
       "      <th>seller_type</th>\n",
       "      <th>transmission</th>\n",
       "      <th>owner</th>\n",
       "      <th>mileage</th>\n",
       "      <th>engine</th>\n",
       "      <th>max_power</th>\n",
       "      <th>seats</th>\n",
       "    </tr>\n",
       "  </thead>\n",
       "  <tbody>\n",
       "    <tr>\n",
       "      <th>0</th>\n",
       "      <td>Maruti Swift Dzire VDI</td>\n",
       "      <td>11</td>\n",
       "      <td>450000</td>\n",
       "      <td>145500</td>\n",
       "      <td>Diesel</td>\n",
       "      <td>Individual</td>\n",
       "      <td>Manual</td>\n",
       "      <td>First Owner</td>\n",
       "      <td>23.40</td>\n",
       "      <td>1248.0</td>\n",
       "      <td>74</td>\n",
       "      <td>5.0</td>\n",
       "    </tr>\n",
       "    <tr>\n",
       "      <th>1</th>\n",
       "      <td>Skoda Rapid 1.5 TDI Ambition</td>\n",
       "      <td>11</td>\n",
       "      <td>370000</td>\n",
       "      <td>120000</td>\n",
       "      <td>Diesel</td>\n",
       "      <td>Individual</td>\n",
       "      <td>Manual</td>\n",
       "      <td>Second Owner</td>\n",
       "      <td>21.14</td>\n",
       "      <td>1498.0</td>\n",
       "      <td>103.52</td>\n",
       "      <td>5.0</td>\n",
       "    </tr>\n",
       "    <tr>\n",
       "      <th>2</th>\n",
       "      <td>Honda City 2017-2020 EXi</td>\n",
       "      <td>19</td>\n",
       "      <td>158000</td>\n",
       "      <td>140000</td>\n",
       "      <td>Petrol</td>\n",
       "      <td>Individual</td>\n",
       "      <td>Manual</td>\n",
       "      <td>Third Owner</td>\n",
       "      <td>17.70</td>\n",
       "      <td>1497.0</td>\n",
       "      <td>78</td>\n",
       "      <td>5.0</td>\n",
       "    </tr>\n",
       "    <tr>\n",
       "      <th>3</th>\n",
       "      <td>Hyundai i20 Sportz Diesel</td>\n",
       "      <td>15</td>\n",
       "      <td>225000</td>\n",
       "      <td>127000</td>\n",
       "      <td>Diesel</td>\n",
       "      <td>Individual</td>\n",
       "      <td>Manual</td>\n",
       "      <td>First Owner</td>\n",
       "      <td>23.00</td>\n",
       "      <td>1396.0</td>\n",
       "      <td>90</td>\n",
       "      <td>5.0</td>\n",
       "    </tr>\n",
       "    <tr>\n",
       "      <th>4</th>\n",
       "      <td>Maruti Swift VXI BSIII</td>\n",
       "      <td>18</td>\n",
       "      <td>130000</td>\n",
       "      <td>120000</td>\n",
       "      <td>Petrol</td>\n",
       "      <td>Individual</td>\n",
       "      <td>Manual</td>\n",
       "      <td>First Owner</td>\n",
       "      <td>16.10</td>\n",
       "      <td>1298.0</td>\n",
       "      <td>88.2</td>\n",
       "      <td>5.0</td>\n",
       "    </tr>\n",
       "  </tbody>\n",
       "</table>\n",
       "</div>"
      ]
     },
     "execution_count": 17,
     "metadata": {},
     "output_type": "execute_result"
    }
   ],
   "execution_count": 17
  },
  {
   "metadata": {},
   "cell_type": "markdown",
   "source": "12. Check if any numerical columns are stored as strings and convert them to numbers.\n",
   "id": "ce8f46173313d40"
  },
  {
   "metadata": {
    "ExecuteTime": {
     "end_time": "2025-09-13T07:53:58.376637Z",
     "start_time": "2025-09-13T07:53:58.355720Z"
    }
   },
   "cell_type": "code",
   "source": "df.info()",
   "id": "71b6fdc90abc7bfc",
   "outputs": [
    {
     "name": "stdout",
     "output_type": "stream",
     "text": [
      "<class 'pandas.core.frame.DataFrame'>\n",
      "Index: 6906 entries, 0 to 8125\n",
      "Data columns (total 12 columns):\n",
      " #   Column         Non-Null Count  Dtype  \n",
      "---  ------         --------------  -----  \n",
      " 0   name           6906 non-null   object \n",
      " 1   year           6906 non-null   int64  \n",
      " 2   selling_price  6906 non-null   int64  \n",
      " 3   km_driven      6906 non-null   int64  \n",
      " 4   fuel           6906 non-null   object \n",
      " 5   seller_type    6906 non-null   object \n",
      " 6   transmission   6906 non-null   object \n",
      " 7   owner          6906 non-null   object \n",
      " 8   mileage        6906 non-null   float64\n",
      " 9   engine         6698 non-null   float64\n",
      " 10  max_power      6701 non-null   object \n",
      " 11  seats          6698 non-null   float64\n",
      "dtypes: float64(3), int64(3), object(6)\n",
      "memory usage: 701.4+ KB\n"
     ]
    }
   ],
   "execution_count": 18
  },
  {
   "metadata": {
    "ExecuteTime": {
     "end_time": "2025-09-13T08:13:45.918287Z",
     "start_time": "2025-09-13T08:13:45.889339Z"
    }
   },
   "cell_type": "code",
   "source": [
    "# converting max_power from an object to an integer\n",
    "# mean_max_power = df['max_power'].mean()\n",
    "df['max_power'] = df['max_power'].fillna('null')\n",
    "df.info()"
   ],
   "id": "881d3393cd027fad",
   "outputs": [
    {
     "name": "stdout",
     "output_type": "stream",
     "text": [
      "<class 'pandas.core.frame.DataFrame'>\n",
      "Index: 6906 entries, 0 to 8125\n",
      "Data columns (total 12 columns):\n",
      " #   Column         Non-Null Count  Dtype  \n",
      "---  ------         --------------  -----  \n",
      " 0   name           6906 non-null   object \n",
      " 1   year           6906 non-null   int64  \n",
      " 2   selling_price  6906 non-null   int64  \n",
      " 3   km_driven      6906 non-null   int64  \n",
      " 4   fuel           6906 non-null   object \n",
      " 5   seller_type    6906 non-null   object \n",
      " 6   transmission   6906 non-null   object \n",
      " 7   owner          6906 non-null   object \n",
      " 8   mileage        6906 non-null   float64\n",
      " 9   engine         6698 non-null   float64\n",
      " 10  max_power      6906 non-null   object \n",
      " 11  seats          6698 non-null   float64\n",
      "dtypes: float64(3), int64(3), object(6)\n",
      "memory usage: 701.4+ KB\n"
     ]
    }
   ],
   "execution_count": 23
  },
  {
   "metadata": {
    "ExecuteTime": {
     "end_time": "2025-09-13T08:29:00.445611Z",
     "start_time": "2025-09-13T08:29:00.405288Z"
    }
   },
   "cell_type": "code",
   "source": [
    "\n",
    "df['max_power'] = df['max_power'].astype(str).str.strip()  #remove leading/trailing spaces\n",
    "df['max_power'] = df['max_power'].replace(['null', '', 'NULL', 'Null', 'nan'], 0)\n",
    "df['max_power'] = pd.to_numeric(df['max_power'], errors='coerce').fillna(0)"
   ],
   "id": "bd2ce56e573f83f8",
   "outputs": [],
   "execution_count": 28
  },
  {
   "metadata": {
    "ExecuteTime": {
     "end_time": "2025-09-13T08:30:52.713811Z",
     "start_time": "2025-09-13T08:30:52.698871Z"
    }
   },
   "cell_type": "code",
   "source": "df['max_power'] = df['max_power'].astype(float)",
   "id": "f980f6cdc1928702",
   "outputs": [],
   "execution_count": 29
  },
  {
   "metadata": {
    "ExecuteTime": {
     "end_time": "2025-09-13T08:31:04.236209Z",
     "start_time": "2025-09-13T08:31:04.216833Z"
    }
   },
   "cell_type": "code",
   "source": "df.info()",
   "id": "ed53645882467b4c",
   "outputs": [
    {
     "name": "stdout",
     "output_type": "stream",
     "text": [
      "<class 'pandas.core.frame.DataFrame'>\n",
      "Index: 6906 entries, 0 to 8125\n",
      "Data columns (total 12 columns):\n",
      " #   Column         Non-Null Count  Dtype  \n",
      "---  ------         --------------  -----  \n",
      " 0   name           6906 non-null   object \n",
      " 1   year           6906 non-null   int64  \n",
      " 2   selling_price  6906 non-null   int64  \n",
      " 3   km_driven      6906 non-null   int64  \n",
      " 4   fuel           6906 non-null   object \n",
      " 5   seller_type    6906 non-null   object \n",
      " 6   transmission   6906 non-null   object \n",
      " 7   owner          6906 non-null   object \n",
      " 8   mileage        6906 non-null   float64\n",
      " 9   engine         6698 non-null   float64\n",
      " 10  max_power      6906 non-null   float64\n",
      " 11  seats          6698 non-null   float64\n",
      "dtypes: float64(4), int64(3), object(5)\n",
      "memory usage: 701.4+ KB\n"
     ]
    }
   ],
   "execution_count": 30
  },
  {
   "metadata": {},
   "cell_type": "markdown",
   "source": "13. Create a new column for “price per kilometer” by dividing the selling price by the mileage.\n",
   "id": "e7e98b9288e303f1"
  },
  {
   "metadata": {
    "ExecuteTime": {
     "end_time": "2025-09-13T09:21:01.800294Z",
     "start_time": "2025-09-13T09:21:01.522541Z"
    }
   },
   "cell_type": "code",
   "source": [
    "df['price_per_kg'] = df.apply(\n",
    "    lambda row: 0 if row['mileage'] == 0 else row['selling_price'] / row['mileage'],\n",
    "    axis=1\n",
    ")\n",
    "df.head()"
   ],
   "id": "513e63f601930e11",
   "outputs": [
    {
     "data": {
      "text/plain": [
       "                           name  year  selling_price  km_driven    fuel  \\\n",
       "0        Maruti Swift Dzire VDI    11         450000     145500  Diesel   \n",
       "1  Skoda Rapid 1.5 TDI Ambition    11         370000     120000  Diesel   \n",
       "2      Honda City 2017-2020 EXi    19         158000     140000  Petrol   \n",
       "3     Hyundai i20 Sportz Diesel    15         225000     127000  Diesel   \n",
       "4        Maruti Swift VXI BSIII    18         130000     120000  Petrol   \n",
       "\n",
       "  seller_type transmission         owner  mileage  engine  max_power  seats  \\\n",
       "0  Individual       Manual   First Owner    23.40  1248.0      74.00    5.0   \n",
       "1  Individual       Manual  Second Owner    21.14  1498.0     103.52    5.0   \n",
       "2  Individual       Manual   Third Owner    17.70  1497.0      78.00    5.0   \n",
       "3  Individual       Manual   First Owner    23.00  1396.0      90.00    5.0   \n",
       "4  Individual       Manual   First Owner    16.10  1298.0      88.20    5.0   \n",
       "\n",
       "   price_per_kg  \n",
       "0  19230.769231  \n",
       "1  17502.365184  \n",
       "2   8926.553672  \n",
       "3   9782.608696  \n",
       "4   8074.534161  "
      ],
      "text/html": [
       "<div>\n",
       "<style scoped>\n",
       "    .dataframe tbody tr th:only-of-type {\n",
       "        vertical-align: middle;\n",
       "    }\n",
       "\n",
       "    .dataframe tbody tr th {\n",
       "        vertical-align: top;\n",
       "    }\n",
       "\n",
       "    .dataframe thead th {\n",
       "        text-align: right;\n",
       "    }\n",
       "</style>\n",
       "<table border=\"1\" class=\"dataframe\">\n",
       "  <thead>\n",
       "    <tr style=\"text-align: right;\">\n",
       "      <th></th>\n",
       "      <th>name</th>\n",
       "      <th>year</th>\n",
       "      <th>selling_price</th>\n",
       "      <th>km_driven</th>\n",
       "      <th>fuel</th>\n",
       "      <th>seller_type</th>\n",
       "      <th>transmission</th>\n",
       "      <th>owner</th>\n",
       "      <th>mileage</th>\n",
       "      <th>engine</th>\n",
       "      <th>max_power</th>\n",
       "      <th>seats</th>\n",
       "      <th>price_per_kg</th>\n",
       "    </tr>\n",
       "  </thead>\n",
       "  <tbody>\n",
       "    <tr>\n",
       "      <th>0</th>\n",
       "      <td>Maruti Swift Dzire VDI</td>\n",
       "      <td>11</td>\n",
       "      <td>450000</td>\n",
       "      <td>145500</td>\n",
       "      <td>Diesel</td>\n",
       "      <td>Individual</td>\n",
       "      <td>Manual</td>\n",
       "      <td>First Owner</td>\n",
       "      <td>23.40</td>\n",
       "      <td>1248.0</td>\n",
       "      <td>74.00</td>\n",
       "      <td>5.0</td>\n",
       "      <td>19230.769231</td>\n",
       "    </tr>\n",
       "    <tr>\n",
       "      <th>1</th>\n",
       "      <td>Skoda Rapid 1.5 TDI Ambition</td>\n",
       "      <td>11</td>\n",
       "      <td>370000</td>\n",
       "      <td>120000</td>\n",
       "      <td>Diesel</td>\n",
       "      <td>Individual</td>\n",
       "      <td>Manual</td>\n",
       "      <td>Second Owner</td>\n",
       "      <td>21.14</td>\n",
       "      <td>1498.0</td>\n",
       "      <td>103.52</td>\n",
       "      <td>5.0</td>\n",
       "      <td>17502.365184</td>\n",
       "    </tr>\n",
       "    <tr>\n",
       "      <th>2</th>\n",
       "      <td>Honda City 2017-2020 EXi</td>\n",
       "      <td>19</td>\n",
       "      <td>158000</td>\n",
       "      <td>140000</td>\n",
       "      <td>Petrol</td>\n",
       "      <td>Individual</td>\n",
       "      <td>Manual</td>\n",
       "      <td>Third Owner</td>\n",
       "      <td>17.70</td>\n",
       "      <td>1497.0</td>\n",
       "      <td>78.00</td>\n",
       "      <td>5.0</td>\n",
       "      <td>8926.553672</td>\n",
       "    </tr>\n",
       "    <tr>\n",
       "      <th>3</th>\n",
       "      <td>Hyundai i20 Sportz Diesel</td>\n",
       "      <td>15</td>\n",
       "      <td>225000</td>\n",
       "      <td>127000</td>\n",
       "      <td>Diesel</td>\n",
       "      <td>Individual</td>\n",
       "      <td>Manual</td>\n",
       "      <td>First Owner</td>\n",
       "      <td>23.00</td>\n",
       "      <td>1396.0</td>\n",
       "      <td>90.00</td>\n",
       "      <td>5.0</td>\n",
       "      <td>9782.608696</td>\n",
       "    </tr>\n",
       "    <tr>\n",
       "      <th>4</th>\n",
       "      <td>Maruti Swift VXI BSIII</td>\n",
       "      <td>18</td>\n",
       "      <td>130000</td>\n",
       "      <td>120000</td>\n",
       "      <td>Petrol</td>\n",
       "      <td>Individual</td>\n",
       "      <td>Manual</td>\n",
       "      <td>First Owner</td>\n",
       "      <td>16.10</td>\n",
       "      <td>1298.0</td>\n",
       "      <td>88.20</td>\n",
       "      <td>5.0</td>\n",
       "      <td>8074.534161</td>\n",
       "    </tr>\n",
       "  </tbody>\n",
       "</table>\n",
       "</div>"
      ]
     },
     "execution_count": 32,
     "metadata": {},
     "output_type": "execute_result"
    }
   ],
   "execution_count": 32
  },
  {
   "metadata": {},
   "cell_type": "code",
   "source": [
    "# remove the decimals in price per kg.\n",
    "df['price_per_kg'] = df['price_per_kg'].astype(int)\n",
    "df.head()"
   ],
   "id": "5bb21a05627b1577",
   "outputs": [
    {
     "data": {
      "text/plain": [
       "                           name  year  selling_price  km_driven    fuel  \\\n",
       "0        Maruti Swift Dzire VDI    11         450000     145500  Diesel   \n",
       "1  Skoda Rapid 1.5 TDI Ambition    11         370000     120000  Diesel   \n",
       "2      Honda City 2017-2020 EXi    19         158000     140000  Petrol   \n",
       "3     Hyundai i20 Sportz Diesel    15         225000     127000  Diesel   \n",
       "4        Maruti Swift VXI BSIII    18         130000     120000  Petrol   \n",
       "\n",
       "  seller_type transmission         owner  mileage  engine  max_power  seats  \\\n",
       "0  Individual       Manual   First Owner    23.40  1248.0      74.00    5.0   \n",
       "1  Individual       Manual  Second Owner    21.14  1498.0     103.52    5.0   \n",
       "2  Individual       Manual   Third Owner    17.70  1497.0      78.00    5.0   \n",
       "3  Individual       Manual   First Owner    23.00  1396.0      90.00    5.0   \n",
       "4  Individual       Manual   First Owner    16.10  1298.0      88.20    5.0   \n",
       "\n",
       "   price_per_kg  \n",
       "0         19230  \n",
       "1         17502  \n",
       "2          8926  \n",
       "3          9782  \n",
       "4          8074  "
      ],
      "text/html": [
       "<div>\n",
       "<style scoped>\n",
       "    .dataframe tbody tr th:only-of-type {\n",
       "        vertical-align: middle;\n",
       "    }\n",
       "\n",
       "    .dataframe tbody tr th {\n",
       "        vertical-align: top;\n",
       "    }\n",
       "\n",
       "    .dataframe thead th {\n",
       "        text-align: right;\n",
       "    }\n",
       "</style>\n",
       "<table border=\"1\" class=\"dataframe\">\n",
       "  <thead>\n",
       "    <tr style=\"text-align: right;\">\n",
       "      <th></th>\n",
       "      <th>name</th>\n",
       "      <th>year</th>\n",
       "      <th>selling_price</th>\n",
       "      <th>km_driven</th>\n",
       "      <th>fuel</th>\n",
       "      <th>seller_type</th>\n",
       "      <th>transmission</th>\n",
       "      <th>owner</th>\n",
       "      <th>mileage</th>\n",
       "      <th>engine</th>\n",
       "      <th>max_power</th>\n",
       "      <th>seats</th>\n",
       "      <th>price_per_kg</th>\n",
       "    </tr>\n",
       "  </thead>\n",
       "  <tbody>\n",
       "    <tr>\n",
       "      <th>0</th>\n",
       "      <td>Maruti Swift Dzire VDI</td>\n",
       "      <td>11</td>\n",
       "      <td>450000</td>\n",
       "      <td>145500</td>\n",
       "      <td>Diesel</td>\n",
       "      <td>Individual</td>\n",
       "      <td>Manual</td>\n",
       "      <td>First Owner</td>\n",
       "      <td>23.40</td>\n",
       "      <td>1248.0</td>\n",
       "      <td>74.00</td>\n",
       "      <td>5.0</td>\n",
       "      <td>19230</td>\n",
       "    </tr>\n",
       "    <tr>\n",
       "      <th>1</th>\n",
       "      <td>Skoda Rapid 1.5 TDI Ambition</td>\n",
       "      <td>11</td>\n",
       "      <td>370000</td>\n",
       "      <td>120000</td>\n",
       "      <td>Diesel</td>\n",
       "      <td>Individual</td>\n",
       "      <td>Manual</td>\n",
       "      <td>Second Owner</td>\n",
       "      <td>21.14</td>\n",
       "      <td>1498.0</td>\n",
       "      <td>103.52</td>\n",
       "      <td>5.0</td>\n",
       "      <td>17502</td>\n",
       "    </tr>\n",
       "    <tr>\n",
       "      <th>2</th>\n",
       "      <td>Honda City 2017-2020 EXi</td>\n",
       "      <td>19</td>\n",
       "      <td>158000</td>\n",
       "      <td>140000</td>\n",
       "      <td>Petrol</td>\n",
       "      <td>Individual</td>\n",
       "      <td>Manual</td>\n",
       "      <td>Third Owner</td>\n",
       "      <td>17.70</td>\n",
       "      <td>1497.0</td>\n",
       "      <td>78.00</td>\n",
       "      <td>5.0</td>\n",
       "      <td>8926</td>\n",
       "    </tr>\n",
       "    <tr>\n",
       "      <th>3</th>\n",
       "      <td>Hyundai i20 Sportz Diesel</td>\n",
       "      <td>15</td>\n",
       "      <td>225000</td>\n",
       "      <td>127000</td>\n",
       "      <td>Diesel</td>\n",
       "      <td>Individual</td>\n",
       "      <td>Manual</td>\n",
       "      <td>First Owner</td>\n",
       "      <td>23.00</td>\n",
       "      <td>1396.0</td>\n",
       "      <td>90.00</td>\n",
       "      <td>5.0</td>\n",
       "      <td>9782</td>\n",
       "    </tr>\n",
       "    <tr>\n",
       "      <th>4</th>\n",
       "      <td>Maruti Swift VXI BSIII</td>\n",
       "      <td>18</td>\n",
       "      <td>130000</td>\n",
       "      <td>120000</td>\n",
       "      <td>Petrol</td>\n",
       "      <td>Individual</td>\n",
       "      <td>Manual</td>\n",
       "      <td>First Owner</td>\n",
       "      <td>16.10</td>\n",
       "      <td>1298.0</td>\n",
       "      <td>88.20</td>\n",
       "      <td>5.0</td>\n",
       "      <td>8074</td>\n",
       "    </tr>\n",
       "  </tbody>\n",
       "</table>\n",
       "</div>"
      ]
     },
     "execution_count": 34,
     "metadata": {},
     "output_type": "execute_result"
    }
   ],
   "execution_count": 34
  },
  {
   "metadata": {},
   "cell_type": "markdown",
   "source": "14. Ensure the dataset index is properly reset after cleaning.",
   "id": "b16368ee7abf58d0"
  },
  {
   "metadata": {
    "ExecuteTime": {
     "end_time": "2025-09-13T09:27:01.483870Z",
     "start_time": "2025-09-13T09:27:01.447148Z"
    }
   },
   "cell_type": "code",
   "source": [
    "df = df.reset_index()\n",
    "df.head()"
   ],
   "id": "b0408b757912f030",
   "outputs": [
    {
     "data": {
      "text/plain": [
       "   index                          name  year  selling_price  km_driven  \\\n",
       "0      0        Maruti Swift Dzire VDI    11         450000     145500   \n",
       "1      1  Skoda Rapid 1.5 TDI Ambition    11         370000     120000   \n",
       "2      2      Honda City 2017-2020 EXi    19         158000     140000   \n",
       "3      3     Hyundai i20 Sportz Diesel    15         225000     127000   \n",
       "4      4        Maruti Swift VXI BSIII    18         130000     120000   \n",
       "\n",
       "     fuel seller_type transmission         owner  mileage  engine  max_power  \\\n",
       "0  Diesel  Individual       Manual   First Owner    23.40  1248.0      74.00   \n",
       "1  Diesel  Individual       Manual  Second Owner    21.14  1498.0     103.52   \n",
       "2  Petrol  Individual       Manual   Third Owner    17.70  1497.0      78.00   \n",
       "3  Diesel  Individual       Manual   First Owner    23.00  1396.0      90.00   \n",
       "4  Petrol  Individual       Manual   First Owner    16.10  1298.0      88.20   \n",
       "\n",
       "   seats  price_per_kg  \n",
       "0    5.0         19230  \n",
       "1    5.0         17502  \n",
       "2    5.0          8926  \n",
       "3    5.0          9782  \n",
       "4    5.0          8074  "
      ],
      "text/html": [
       "<div>\n",
       "<style scoped>\n",
       "    .dataframe tbody tr th:only-of-type {\n",
       "        vertical-align: middle;\n",
       "    }\n",
       "\n",
       "    .dataframe tbody tr th {\n",
       "        vertical-align: top;\n",
       "    }\n",
       "\n",
       "    .dataframe thead th {\n",
       "        text-align: right;\n",
       "    }\n",
       "</style>\n",
       "<table border=\"1\" class=\"dataframe\">\n",
       "  <thead>\n",
       "    <tr style=\"text-align: right;\">\n",
       "      <th></th>\n",
       "      <th>index</th>\n",
       "      <th>name</th>\n",
       "      <th>year</th>\n",
       "      <th>selling_price</th>\n",
       "      <th>km_driven</th>\n",
       "      <th>fuel</th>\n",
       "      <th>seller_type</th>\n",
       "      <th>transmission</th>\n",
       "      <th>owner</th>\n",
       "      <th>mileage</th>\n",
       "      <th>engine</th>\n",
       "      <th>max_power</th>\n",
       "      <th>seats</th>\n",
       "      <th>price_per_kg</th>\n",
       "    </tr>\n",
       "  </thead>\n",
       "  <tbody>\n",
       "    <tr>\n",
       "      <th>0</th>\n",
       "      <td>0</td>\n",
       "      <td>Maruti Swift Dzire VDI</td>\n",
       "      <td>11</td>\n",
       "      <td>450000</td>\n",
       "      <td>145500</td>\n",
       "      <td>Diesel</td>\n",
       "      <td>Individual</td>\n",
       "      <td>Manual</td>\n",
       "      <td>First Owner</td>\n",
       "      <td>23.40</td>\n",
       "      <td>1248.0</td>\n",
       "      <td>74.00</td>\n",
       "      <td>5.0</td>\n",
       "      <td>19230</td>\n",
       "    </tr>\n",
       "    <tr>\n",
       "      <th>1</th>\n",
       "      <td>1</td>\n",
       "      <td>Skoda Rapid 1.5 TDI Ambition</td>\n",
       "      <td>11</td>\n",
       "      <td>370000</td>\n",
       "      <td>120000</td>\n",
       "      <td>Diesel</td>\n",
       "      <td>Individual</td>\n",
       "      <td>Manual</td>\n",
       "      <td>Second Owner</td>\n",
       "      <td>21.14</td>\n",
       "      <td>1498.0</td>\n",
       "      <td>103.52</td>\n",
       "      <td>5.0</td>\n",
       "      <td>17502</td>\n",
       "    </tr>\n",
       "    <tr>\n",
       "      <th>2</th>\n",
       "      <td>2</td>\n",
       "      <td>Honda City 2017-2020 EXi</td>\n",
       "      <td>19</td>\n",
       "      <td>158000</td>\n",
       "      <td>140000</td>\n",
       "      <td>Petrol</td>\n",
       "      <td>Individual</td>\n",
       "      <td>Manual</td>\n",
       "      <td>Third Owner</td>\n",
       "      <td>17.70</td>\n",
       "      <td>1497.0</td>\n",
       "      <td>78.00</td>\n",
       "      <td>5.0</td>\n",
       "      <td>8926</td>\n",
       "    </tr>\n",
       "    <tr>\n",
       "      <th>3</th>\n",
       "      <td>3</td>\n",
       "      <td>Hyundai i20 Sportz Diesel</td>\n",
       "      <td>15</td>\n",
       "      <td>225000</td>\n",
       "      <td>127000</td>\n",
       "      <td>Diesel</td>\n",
       "      <td>Individual</td>\n",
       "      <td>Manual</td>\n",
       "      <td>First Owner</td>\n",
       "      <td>23.00</td>\n",
       "      <td>1396.0</td>\n",
       "      <td>90.00</td>\n",
       "      <td>5.0</td>\n",
       "      <td>9782</td>\n",
       "    </tr>\n",
       "    <tr>\n",
       "      <th>4</th>\n",
       "      <td>4</td>\n",
       "      <td>Maruti Swift VXI BSIII</td>\n",
       "      <td>18</td>\n",
       "      <td>130000</td>\n",
       "      <td>120000</td>\n",
       "      <td>Petrol</td>\n",
       "      <td>Individual</td>\n",
       "      <td>Manual</td>\n",
       "      <td>First Owner</td>\n",
       "      <td>16.10</td>\n",
       "      <td>1298.0</td>\n",
       "      <td>88.20</td>\n",
       "      <td>5.0</td>\n",
       "      <td>8074</td>\n",
       "    </tr>\n",
       "  </tbody>\n",
       "</table>\n",
       "</div>"
      ]
     },
     "execution_count": 35,
     "metadata": {},
     "output_type": "execute_result"
    }
   ],
   "execution_count": 35
  },
  {
   "metadata": {},
   "cell_type": "markdown",
   "source": "Save your cleaned dataset as a new CSV file called cleaned_cars.csv.",
   "id": "5e941d4e1858f96b"
  },
  {
   "metadata": {
    "ExecuteTime": {
     "end_time": "2025-09-13T09:29:33.722402Z",
     "start_time": "2025-09-13T09:29:33.570896Z"
    }
   },
   "cell_type": "code",
   "source": "df.to_csv('cleaned_cars.csv', index=False)",
   "id": "dc890c5e0e460117",
   "outputs": [],
   "execution_count": 36
  }
 ],
 "metadata": {
  "kernelspec": {
   "display_name": "Python 3",
   "language": "python",
   "name": "python3"
  },
  "language_info": {
   "codemirror_mode": {
    "name": "ipython",
    "version": 2
   },
   "file_extension": ".py",
   "mimetype": "text/x-python",
   "name": "python",
   "nbconvert_exporter": "python",
   "pygments_lexer": "ipython2",
   "version": "2.7.6"
  }
 },
 "nbformat": 4,
 "nbformat_minor": 5
}
